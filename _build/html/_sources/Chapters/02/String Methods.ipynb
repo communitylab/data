{
 "cells": [
  {
   "cell_type": "markdown",
   "metadata": {},
   "source": [
    "# String Methods\n",
    "<hr style=\"height:1px;border:none;color:#666;background-color:#666;\" />"
   ]
  },
  {
   "cell_type": "markdown",
   "metadata": {},
   "source": [
    "Python strings are just pieces of text. So far we looked at how to concatenate (add) them together.\n",
    "\n"
   ]
  },
  {
   "cell_type": "code",
   "execution_count": 3,
   "metadata": {},
   "outputs": [
    {
     "data": {
      "text/plain": [
       "'My computer says Hello World!'"
      ]
     },
     "execution_count": 3,
     "metadata": {},
     "output_type": "execute_result"
    }
   ],
   "source": [
    "greeting = 'Hello World!'\n",
    "'My computer says ' + greeting"
   ]
  },
  {
   "cell_type": "markdown",
   "metadata": {},
   "source": [
    "We can even repeat the strings several times by using `*` operator"
   ]
  },
  {
   "cell_type": "code",
   "execution_count": 4,
   "metadata": {},
   "outputs": [
    {
     "data": {
      "text/plain": [
       "'Hello World!Hello World!Hello World!'"
      ]
     },
     "execution_count": 4,
     "metadata": {},
     "output_type": "execute_result"
    }
   ],
   "source": [
    "greeting * 3"
   ]
  },
  {
   "cell_type": "markdown",
   "metadata": {},
   "source": [
    "Python strings are [immutable](https://docs.python.org/3/glossary.html#term-immutable).\n",
    "That's just a fancy way to say that\n",
    "they cannot be changed in-place, and we need to create a new string to\n",
    "change them. Even `some_string += another_string` creates a new string.\n",
    "Python will treat that as `some_string = some_string + another_string`,\n",
    "so it creates a new string but it puts it back to the same variable.\n",
    "\n",
    "`+` and `*` are nice, but what else can we do with strings?\n",
    "\n",
    "## Slicing\n",
    "\n",
    "Slicing is really simple. It just means getting a part of the string.\n",
    "For example, to get all characters between the second place between the\n",
    "characters and the fifth place between the characters, we can do this:"
   ]
  },
  {
   "cell_type": "code",
   "execution_count": 6,
   "metadata": {},
   "outputs": [
    {
     "data": {
      "text/plain": [
       "'Hell'"
      ]
     },
     "execution_count": 6,
     "metadata": {},
     "output_type": "execute_result"
    }
   ],
   "source": [
    "greeting[0:4]"
   ]
  },
  {
   "cell_type": "markdown",
   "metadata": {},
   "source": [
    "So the syntax is like `some_string[start:end]`.\n",
    "\n",
    "This picture explains how the slicing works:\n",
    "\n",
    "```{figure} slicing1.png\n",
    "---\n",
    "width: 60%\n",
    "name: Slicing\n",
    "alt: Slicing with non-negative values.\n",
    "---\n",
    "Slicing strings\n",
    "```\n",
    "\n",
    "But what happens if we slice with negative values?"
   ]
  },
  {
   "cell_type": "code",
   "execution_count": 8,
   "metadata": {},
   "outputs": [
    {
     "data": {
      "text/plain": [
       "'Wor'"
      ]
     },
     "execution_count": 8,
     "metadata": {},
     "output_type": "execute_result"
    }
   ],
   "source": [
    "greeting[-6:-3]"
   ]
  },
  {
   "cell_type": "markdown",
   "metadata": {},
   "source": [
    "It turns out we can slice strings using negative values by simply starts counting\n",
    "from the end of the string.\n",
    "\n",
    "```{figure} slicing2.png\n",
    "---\n",
    "width: 60%\n",
    "name: Slicing Strings\n",
    "alt: Slicing with negative values.\n",
    "---\n",
    "Slicing strings using negative values\n",
    "```\n",
    "\n",
    "If we don't specify the beginning it defaults to 0, and if we don't\n",
    "specify the end it defaults to the length of the string. For example, we\n",
    "can get everything except the first or last character like this:"
   ]
  },
  {
   "cell_type": "code",
   "execution_count": 9,
   "metadata": {},
   "outputs": [
    {
     "data": {
      "text/plain": [
       "'ello World!'"
      ]
     },
     "execution_count": 9,
     "metadata": {},
     "output_type": "execute_result"
    }
   ],
   "source": [
    "greeting[1:]"
   ]
  },
  {
   "cell_type": "code",
   "execution_count": 10,
   "metadata": {},
   "outputs": [
    {
     "data": {
      "text/plain": [
       "'Hello World'"
      ]
     },
     "execution_count": 10,
     "metadata": {},
     "output_type": "execute_result"
    }
   ],
   "source": [
    "greeting[:-1]"
   ]
  },
  {
   "cell_type": "markdown",
   "metadata": {},
   "source": [
    "As mentioned cannot be changed in-place, so if we write something like..."
   ]
  },
  {
   "cell_type": "code",
   "execution_count": 13,
   "metadata": {},
   "outputs": [
    {
     "ename": "TypeError",
     "evalue": "'str' object does not support item assignment",
     "output_type": "error",
     "traceback": [
      "\u001b[0;31m---------------------------------------------------------------------------\u001b[0m",
      "\u001b[0;31mTypeError\u001b[0m                                 Traceback (most recent call last)",
      "\u001b[0;32m<ipython-input-13-b99a669908bb>\u001b[0m in \u001b[0;36m<module>\u001b[0;34m\u001b[0m\n\u001b[0;32m----> 1\u001b[0;31m \u001b[0mgreeting\u001b[0m\u001b[0;34m[\u001b[0m\u001b[0;34m:\u001b[0m\u001b[0;36m5\u001b[0m\u001b[0;34m]\u001b[0m \u001b[0;34m=\u001b[0m \u001b[0;34m'Hiyaa'\u001b[0m\u001b[0;34m\u001b[0m\u001b[0;34m\u001b[0m\u001b[0m\n\u001b[0m",
      "\u001b[0;31mTypeError\u001b[0m: 'str' object does not support item assignment"
     ]
    }
   ],
   "source": [
    "greeting[:5] = 'Hiyaa'"
   ]
  },
  {
   "cell_type": "markdown",
   "metadata": {},
   "source": [
    "we get an error message"
   ]
  },
  {
   "cell_type": "code",
   "execution_count": 15,
   "metadata": {},
   "outputs": [
    {
     "data": {
      "text/plain": [
       "'Hello'"
      ]
     },
     "execution_count": 15,
     "metadata": {},
     "output_type": "execute_result"
    }
   ],
   "source": [
    "greeting[0:5]"
   ]
  },
  {
   "cell_type": "markdown",
   "metadata": {},
   "source": [
    "### Indexing"
   ]
  },
  {
   "cell_type": "markdown",
   "metadata": {},
   "source": [
    "So now we know how slicing works. But what happens if we forget the `:`?"
   ]
  },
  {
   "cell_type": "code",
   "execution_count": 16,
   "metadata": {},
   "outputs": [
    {
     "data": {
      "text/plain": [
       "'e'"
      ]
     },
     "execution_count": 16,
     "metadata": {},
     "output_type": "execute_result"
    }
   ],
   "source": [
    "greeting[1]"
   ]
  },
  {
   "cell_type": "markdown",
   "metadata": {},
   "source": [
    "That's interesting. We get a string that is only one character long. But\n",
    "the first character of `Hello World!` should be `H`, not `e`, so why did\n",
    "we get an e?\n",
    "\n",
    "Programming starts at zero. Indexing strings also starts at zero. The\n",
    "first character is `greeting[0]`, the second character is\n",
    "`greeting[1]`, and so on.\n",
    "\n",
    "```Python\n",
    ">>> greeting[0]\n",
    "'H'\n",
    ">>> greeting[1]\n",
    "'e'\n",
    ">>> greeting[2]\n",
    "'l'\n",
    ">>> greeting[3]\n",
    "'l'\n",
    ">>> greeting[4]\n",
    "'o'\n",
    "```"
   ]
  },
  {
   "cell_type": "markdown",
   "metadata": {},
   "source": [
    "So string indexes work like this:\n",
    "\n",
    "```{figure} indexing1.png\n",
    "---\n",
    "width: 60%\n",
    "name: Indexing Strings\n",
    "alt: Indexing Strings.\n",
    "---\n",
    "String Index\n",
    "```\n",
    "\n",
    "How about negative values?"
   ]
  },
  {
   "cell_type": "code",
   "execution_count": 18,
   "metadata": {},
   "outputs": [
    {
     "data": {
      "text/plain": [
       "'!'"
      ]
     },
     "execution_count": 18,
     "metadata": {},
     "output_type": "execute_result"
    }
   ],
   "source": [
    "greeting[-1]"
   ]
  },
  {
   "cell_type": "markdown",
   "metadata": {},
   "source": [
    "We got the last character.\n",
    "\n",
    "But why didn't that start at zero? `our_string[-1]` is the last\n",
    "character, but `our_string[1]` is not the first character!\n",
    "\n",
    "That's because 0 and -0 are equal, so indexing with -0 would do the same\n",
    "thing as indexing with 0.\n",
    "\n",
    "```Python\n",
    ">>> greeting[0]\n",
    "'H'\n",
    ">>> greeting[-0]\n",
    "'H'\n",
    "```"
   ]
  },
  {
   "cell_type": "markdown",
   "metadata": {},
   "source": [
    "## String Methods\n",
    "\n",
    "Python's strings have many useful methods.\n",
    "[The official documentation](https://docs.python.org/3/library/stdtypes.html#string-methods)\n",
    "covers them all, but I'm going to just show some of the most commonly\n",
    "used ones briefly. Python also comes with built-in documentation about\n",
    "the string methods and we can run `help(str)` to read it. We can also\n",
    "get help about one string method at a time, like `help(str.upper)`.\n",
    "\n",
    "Again, nothing can modify strings in-place. Most string methods\n",
    "return a new string, but things like `our_string = our_string.upper()`\n",
    "still work because the new string is assigned to the old variable.\n",
    "\n",
    "```{admonition} Also note that\n",
    "All of these methods are used like `our_string.stuff()`,\n",
    "not like `stuff(our_string)`. The idea with that is that our string\n",
    "knows how to do all these things, like `our_string.stuff()`, we don't\n",
    "need a separate function that does these things like `stuff(our_string)`. We will learn more about methods and functions later.\n",
    "```\n",
    "\n",
    "Here's an example with some of the most commonly used string methods:"
   ]
  },
  {
   "cell_type": "code",
   "execution_count": 19,
   "metadata": {},
   "outputs": [
    {
     "data": {
      "text/plain": [
       "'HOW ARE YOU TODAY?'"
      ]
     },
     "execution_count": 19,
     "metadata": {},
     "output_type": "execute_result"
    }
   ],
   "source": [
    "all_caps = \"HOW ARE YOU TODAY?\"\n",
    "all_caps"
   ]
  },
  {
   "cell_type": "code",
   "execution_count": 21,
   "metadata": {},
   "outputs": [
    {
     "data": {
      "text/plain": [
       "'how are you today?'"
      ]
     },
     "execution_count": 21,
     "metadata": {},
     "output_type": "execute_result"
    }
   ],
   "source": [
    "all_lower = all_caps.lower()\n",
    "all_lower"
   ]
  },
  {
   "cell_type": "markdown",
   "metadata": {},
   "source": [
    "Note that the method lower doesn't change the original string but rather returns a new one. If we check **all_caps** it will still contain the same value"
   ]
  },
  {
   "cell_type": "code",
   "execution_count": 22,
   "metadata": {},
   "outputs": [
    {
     "data": {
      "text/plain": [
       "'HOW ARE YOU TODAY?'"
      ]
     },
     "execution_count": 22,
     "metadata": {},
     "output_type": "execute_result"
    }
   ],
   "source": [
    "all_caps"
   ]
  },
  {
   "cell_type": "markdown",
   "metadata": {},
   "source": [
    "There are *many* string methods. Check out the [documentation](https://docs.python.org/3/library/stdtypes.html#string-methods)."
   ]
  },
  {
   "cell_type": "code",
   "execution_count": 23,
   "metadata": {},
   "outputs": [
    {
     "data": {
      "text/plain": [
       "['HOW', 'ARE', 'YOU', 'TODAY?']"
      ]
     },
     "execution_count": 23,
     "metadata": {},
     "output_type": "execute_result"
    }
   ],
   "source": [
    "all_caps.split()"
   ]
  },
  {
   "cell_type": "code",
   "execution_count": 24,
   "metadata": {},
   "outputs": [
    {
     "data": {
      "text/plain": [
       "3"
      ]
     },
     "execution_count": 24,
     "metadata": {},
     "output_type": "execute_result"
    }
   ],
   "source": [
    "all_caps.count(\"O\")"
   ]
  },
  {
   "cell_type": "markdown",
   "metadata": {},
   "source": [
    "We can even replace the string with a different character, by using the replace method."
   ]
  },
  {
   "cell_type": "code",
   "execution_count": 27,
   "metadata": {},
   "outputs": [
    {
     "data": {
      "text/plain": [
       "'Hell@ W@rld!'"
      ]
     },
     "execution_count": 27,
     "metadata": {},
     "output_type": "execute_result"
    }
   ],
   "source": [
    "# replaces all 'o' with '@'\n",
    "greeting.replace('o', '@') "
   ]
  },
  {
   "cell_type": "code",
   "execution_count": 28,
   "metadata": {},
   "outputs": [
    {
     "data": {
      "text/plain": [
       "'Hell@ World!'"
      ]
     },
     "execution_count": 28,
     "metadata": {},
     "output_type": "execute_result"
    }
   ],
   "source": [
    "# replaces just the first 'o'\n",
    "greeting.replace('o', '@', 1)"
   ]
  },
  {
   "cell_type": "markdown",
   "metadata": {},
   "source": [
    "We can use replace to change more than one character like\n",
    "``` Python\n",
    ">>> greeting.replace('World', 'Earth')\n",
    "'Hello Earth!'\n",
    "```"
   ]
  },
  {
   "cell_type": "markdown",
   "metadata": {},
   "source": [
    "## String formatting\n",
    "\n",
    "To add a string in the middle of another string, we can do something\n",
    "like this:"
   ]
  },
  {
   "cell_type": "code",
   "execution_count": 29,
   "metadata": {},
   "outputs": [
    {
     "data": {
      "text/plain": [
       "'My name is Tony.'"
      ]
     },
     "execution_count": 29,
     "metadata": {},
     "output_type": "execute_result"
    }
   ],
   "source": [
    "name = 'Tony'\n",
    "'My name is ' + name + '.'"
   ]
  },
  {
   "cell_type": "markdown",
   "metadata": {},
   "source": [
    "But that gets complicated if we have too many strings to add.\n",
    "\n",
    "Python has ways of creating strings by \"filling in the blanks\" and formatting them nicely. This is helpful for when you want to print statements that include variables or statements. There are a few ways of doing this but the recomended one is [f-strings](https://docs.python.org/3.6/whatsnew/3.6.html#whatsnew36-pep498). All you need to do is put the letter \"f\" out the front of your string and then you can include variables with curly-bracket notation `{}`."
   ]
  },
  {
   "cell_type": "code",
   "execution_count": 31,
   "metadata": {},
   "outputs": [
    {
     "data": {
      "text/plain": [
       "'Hello, my name is Bill Gates. I am 65 years old. I was born 28/10/1955.'"
      ]
     },
     "execution_count": 31,
     "metadata": {},
     "output_type": "execute_result"
    }
   ],
   "source": [
    "name = \"Bill Gates\"\n",
    "age = 65\n",
    "day = 28\n",
    "month = 10\n",
    "year = 1955\n",
    "template_new = f\"Hello, my name is {name}. I am {age} years old. I was born {day}/{month:02}/{year}.\"\n",
    "template_new"
   ]
  },
  {
   "cell_type": "markdown",
   "metadata": {},
   "source": [
    "## Extra\n",
    "\n",
    "We can use `in` and `not in` to check if a string contains another\n",
    "string."
   ]
  },
  {
   "cell_type": "markdown",
   "metadata": {},
   "source": [
    "\n",
    "```Python\n",
    ">>> greeting = \"Hello World!\"\n",
    ">>> \"Hello\" in greeting\n",
    "True\n",
    ">>> \"Python\" in greeting\n",
    "False\n",
    ">>> \"Python\" not in greeting\n",
    "True\n",
    "```"
   ]
  },
  {
   "cell_type": "markdown",
   "metadata": {},
   "source": [
    "We can get the length of a string with the `len` function. The name\n",
    "`len` is short for \"length\"."
   ]
  },
  {
   "cell_type": "code",
   "execution_count": 32,
   "metadata": {},
   "outputs": [
    {
     "data": {
      "text/plain": [
       "12"
      ]
     },
     "execution_count": 32,
     "metadata": {},
     "output_type": "execute_result"
    }
   ],
   "source": [
    "len(greeting)"
   ]
  }
 ],
 "metadata": {
  "kernelspec": {
   "display_name": "Python 3",
   "language": "python",
   "name": "python3"
  },
  "language_info": {
   "codemirror_mode": {
    "name": "ipython",
    "version": 3
   },
   "file_extension": ".py",
   "mimetype": "text/x-python",
   "name": "python",
   "nbconvert_exporter": "python",
   "pygments_lexer": "ipython3",
   "version": "3.8.5"
  }
 },
 "nbformat": 4,
 "nbformat_minor": 2
}
