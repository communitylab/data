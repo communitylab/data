{
 "cells": [
  {
   "cell_type": "markdown",
   "metadata": {},
   "source": [
    "# 8. Data Visualization\n",
    "<hr style=\"height:1px;border:none;color:#666;background-color:#666;\" />\n",
    "\n",
    "> In good information visualization, there are no rules, no guidelines, no template, no standard technologies, no\n",
    "> stylebook... You must simply do whatever it takes\n",
    ">\n",
    "> ― Edward Tufte\n",
    "\n",
    "Data visualization is an essential tool for data science at every step of analysis, from data cleaning to EDA to communicating conclusions and predictions. Because human minds are highly developed for visual perception, a\n",
    "well-chosen plot can often reveal trends and anomalies in the data much more efficiently than a textual description.\n",
    "\n",
    "To effectively use data visualizations, you must be proficient with both the programming tools to generate plots and the principles of visualization. In this tutorial we will introduce `seaborn` and `matplotlib`, our tools of choice for creating plots. We will also learn how to spot misleading visualizations and how to improve visualizations.\n"
   ]
  },
  {
   "cell_type": "markdown",
   "metadata": {},
   "source": [
    "\n",
    "```{toctree}\n",
    ":hidden:\n",
    ":titlesonly:\n",
    "\n",
    "\n",
    "viz quantitative\n",
    "viz qualitative\n",
    "viz matplotlib\n",
    "```\n"
   ]
  }
 ],
 "metadata": {
  "kernelspec": {
   "display_name": "Python 3",
   "language": "python",
   "name": "python3"
  },
  "language_info": {
   "codemirror_mode": {
    "name": "ipython",
    "version": 3
   },
   "file_extension": ".py",
   "mimetype": "text/x-python",
   "name": "python",
   "nbconvert_exporter": "python",
   "pygments_lexer": "ipython3",
   "version": "3.8.5"
  }
 },
 "nbformat": 4,
 "nbformat_minor": 2
}