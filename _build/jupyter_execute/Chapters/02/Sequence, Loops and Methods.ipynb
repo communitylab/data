{
 "cells": [
  {
   "cell_type": "markdown",
   "metadata": {},
   "source": [
    "# 2. Sequence, Loops and Methods\n",
    "<hr style=\"height:1px;border:none;color:#666;background-color:#666;\" />"
   ]
  },
  {
   "cell_type": "markdown",
   "metadata": {},
   "source": [
    "In this section we will look at another type of data called *Sequence Type*, which is a collection of data values. `str`, `list` and `tuple` are examples of sequence types. They are specific kind of [iterable](https://www.pythonlikeyoumeanit.com/Module2_EssentialsOfPython/Iterables.html)- an object that can be \"iterated over\" using loops, allowing us to ask the type to give each of its items in turn. \n",
    "\n",
    "\n",
    "## In this section we will:\n",
    "- Learn about basic string operations and methods\n",
    "- explain the difference between mutable objects like a list and immutable objects like tuple\n",
    "- write for and while loops"
   ]
  },
  {
   "cell_type": "markdown",
   "metadata": {},
   "source": [
    "\n",
    "```{toctree}\n",
    ":hidden:\n",
    ":titlesonly:\n",
    "\n",
    "\n",
    "String Methods\n",
    "List and Tuples\n",
    "Loops\n",
    "```\n"
   ]
  }
 ],
 "metadata": {
  "kernelspec": {
   "display_name": "Python 3",
   "language": "python",
   "name": "python3"
  },
  "language_info": {
   "codemirror_mode": {
    "name": "ipython",
    "version": 3
   },
   "file_extension": ".py",
   "mimetype": "text/x-python",
   "name": "python",
   "nbconvert_exporter": "python",
   "pygments_lexer": "ipython3",
   "version": "3.8.5"
  }
 },
 "nbformat": 4,
 "nbformat_minor": 4
}