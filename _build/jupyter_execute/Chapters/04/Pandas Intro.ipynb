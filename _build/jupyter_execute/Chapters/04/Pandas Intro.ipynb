{
 "cells": [
  {
   "cell_type": "markdown",
   "metadata": {},
   "source": [
    "# 6. DataFrames in Python\n",
    "<hr style=\"height:1px;border:none;color:#666;background-color:#666;\" />\n",
    "\n",
    "Much of data anlysis involves working with data contained in rectangular form in tables or csv files. In python we call these data tables as `DataFrames`, they are one of the most common and useful forms of data for analysis. We introduce data manipulation using `pandas`, the standard Python library for working with dataframes. \n",
    "\n",
    "It is more important that you understand the types of useful operations on data than the exact details of `pandas` syntax. For example, knowing when to perform a group-by is generally more useful than knowing how to call the `pandas` function to group data. \n",
    "\n",
    "Because we will cover only the most commonly used `pandas` functions in this tutorial, you should bookmark the [`pandas` documentation](http://pandas.pydata.org/pandas-docs/stable/) for reference\n",
    "when you conduct your own data analyses.\n",
    "\n",
    "We begin by talking about the types of dataset structures that `pandas` can read. Then, we introduce indexes, grouping, apply, and strings.\n",
    "\n",
    "## Chapter Learning Objectives\n",
    "<hr>\n",
    "\n",
    "- Create Pandas series with `pd.Series()` and Pandas dataframe with `pd.DataFrame()`\n",
    "- Be able to access values from a Series/DataFrame by indexing, slicing and boolean indexing using notation such as `df[]`, `df.loc[]`, `df.iloc[]`, `df.query[]`\n",
    "- Perform basic arithmetic operations between two series and anticipate the result.\n",
    "- Describe how Pandas assigns dtypes to Series and what the `object` dtype is\n",
    "- Read a standard .csv file from a local path or url using Pandas `pd.read_csv()`.\n",
    "- Understand how to group dataset using `.groupby()` function\n"
   ]
  },
  {
   "cell_type": "markdown",
   "metadata": {},
   "source": [
    "\n",
    "```{toctree}\n",
    ":hidden:\n",
    ":titlesonly:\n",
    "\n",
    "\n",
    "Introduction to Pandas\n",
    "Pandas grouping and pivoting\n",
    "Pandas apply strings and plotting\n",
    "Merge and Concat Dataset\n",
    "```\n"
   ]
  }
 ],
 "metadata": {
  "kernelspec": {
   "display_name": "Python 3",
   "language": "python",
   "name": "python3"
  },
  "language_info": {
   "codemirror_mode": {
    "name": "ipython",
    "version": 3
   },
   "file_extension": ".py",
   "mimetype": "text/x-python",
   "name": "python",
   "nbconvert_exporter": "python",
   "pygments_lexer": "ipython3",
   "version": "3.8.5"
  }
 },
 "nbformat": 4,
 "nbformat_minor": 2
}