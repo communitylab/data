{
 "cells": [
  {
   "cell_type": "markdown",
   "metadata": {},
   "source": [
    "# Data Science\n",
    "<hr style=\"height:1px;border:none;color:#666;background-color:#666;\" />"
   ]
  },
  {
   "cell_type": "markdown",
   "metadata": {},
   "source": [
    "```{admonition} Welcome!\n",
    "The goal of this website is to teach python programming and machine learning, even without a strong technical background.\n",
    "```\n",
    "\n",
    "With this website I aim to provide an introduction to everything you need to know to start using Python for data science. I am hoping it will act as a codebook, where you can execute the code and make notes on the website. We’ll cover topics such as basic programming, using libraries like Pandas and Matplotlib for data exploration and visualization and topics on Machine Learning.\n",
    "\n",
    "```{figure} datascience.jpg\n",
    "---\n",
    "width: 60%\n",
    "name: Data Science\n",
    "alt: Data Science\n",
    "---\n",
    "**DIKW Pyramid**\n",
    "```\n",
    "\n"
   ]
  },
  {
   "cell_type": "markdown",
   "metadata": {},
   "source": [
    "\n",
    "```{toctree}\n",
    ":hidden:\n",
    ":titlesonly:\n",
    "\n",
    "\n",
    "Python editor\n",
    "```\n",
    "\n",
    "\n",
    "```{toctree}\n",
    ":hidden:\n",
    ":titlesonly:\n",
    ":caption: Programming using Python\n",
    "\n",
    "Chapters/01/Workflow_intro\n",
    "Chapters/02/Sequence, Loops and Methods\n",
    "Chapters/03/Dictionaries and Comprehensions\n",
    "Chapters/02/Exercise 01\n",
    "Chapters/02/Solutions 01\n",
    "Chapters/03/Functions and Exceptions\n",
    "```\n",
    "\n",
    "\n",
    "```{toctree}\n",
    ":hidden:\n",
    ":titlesonly:\n",
    ":caption: Data Wrangling using Python\n",
    "\n",
    "Chapters/04/NumPy\n",
    "Chapters/04/Pandas Intro\n",
    "Chapters/05/sql intro\n",
    "Chapters/06/viz intro\n",
    "```\n"
   ]
  }
 ],
 "metadata": {
  "kernelspec": {
   "display_name": "Python 3",
   "language": "python",
   "name": "python3"
  },
  "language_info": {
   "codemirror_mode": {
    "name": "ipython",
    "version": 3
   },
   "file_extension": ".py",
   "mimetype": "text/x-python",
   "name": "python",
   "nbconvert_exporter": "python",
   "pygments_lexer": "ipython3",
   "version": "3.8.5"
  }
 },
 "nbformat": 4,
 "nbformat_minor": 2
}