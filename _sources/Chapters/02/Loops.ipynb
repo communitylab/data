{
 "cells": [
  {
   "cell_type": "markdown",
   "metadata": {},
   "source": [
    "# Loops\n",
    "<hr style=\"height:1px;border:none;color:#666;background-color:#666;\" />\n",
    "\n",
    "In programming, a **loop** means repeating something multiple times.\n",
    "There are different kinds of loops:\n",
    "\n",
    "- [For loops](#for-loops) repeat something for each element of something.\n",
    "- [While loops](#while-loops) repeat something while a condition is true.\n",
    "- [Until loops](#until-loops) repeat something while a condition is false.\n",
    "\n",
    "We'll talk about all of these in this tutorial.\n",
    "\n"
   ]
  },
  {
   "cell_type": "markdown",
   "metadata": {},
   "source": [
    "## For loops\n",
    "\n",
    "Let's say we have a list of things we want to print. To print each item in it, we could just do a bunch of prints:"
   ]
  },
  {
   "cell_type": "code",
   "execution_count": 2,
   "metadata": {},
   "outputs": [
    {
     "name": "stdout",
     "output_type": "stream",
     "text": [
      "Hello\n",
      "Hi\n",
      "How are you doing\n",
      "Im fine\n",
      "How about you\n"
     ]
    }
   ],
   "source": [
    "stuff = ['Hello', 'Hi', 'How are you doing', 'Im fine', 'How about you']\n",
    "\n",
    "print(stuff[0])\n",
    "print(stuff[1])\n",
    "print(stuff[2])\n",
    "print(stuff[3])\n",
    "print(stuff[4])"
   ]
  },
  {
   "cell_type": "markdown",
   "metadata": {},
   "source": [
    "But the problem with this approach is that it is only going to print five items, so if we add something new to\n",
    "the list, it's not going to be printed. Likewise, if we remove something from our list, we'll get an error saying \"list index out of range\".\n",
    "\n",
    "This is when for loops come in:"
   ]
  },
  {
   "cell_type": "code",
   "execution_count": 5,
   "metadata": {},
   "outputs": [
    {
     "name": "stdout",
     "output_type": "stream",
     "text": [
      "I'm starting the loop!!!\n",
      "Hello\n",
      "Hi\n",
      "How are you doing\n",
      "Im fine\n",
      "How about you\n",
      "I'm done with loop!!!\n"
     ]
    }
   ],
   "source": [
    "print(\"I'm starting the loop!!!\")\n",
    "for things in stuff:\n",
    "# this is repeated for each element of stuff, that is, first for stuff[0], then for stuff[1], etc.\n",
    "   print(things)\n",
    "print(\"I'm done with loop!!!\")"
   ]
  },
  {
   "cell_type": "markdown",
   "metadata": {},
   "source": [
    "Without the comments, that's only two simple lines, and one variable. Much better than anything else we tried before.\n",
    "\n",
    "The main points to notice:\n",
    "\n",
    "* Keyword `for` begins the loop. Colon `:` ends the first line of the loop.\n",
    "* Block of code indented is executed for each value in the list (hence the name \"for\" loops)\n",
    "* We can use any variable name (in this case `things`) to refer to items in the list\n",
    "* The loop ends after the variable `things` has taken all the values in the list\n",
    "* We can iterate over any kind of \"iterable\": `list`, `tuple`, `range`, `set`, `string`.\n",
    "* An iterable is really just any object with a sequence of values that can be looped over. In this case, we are iterating over the values in a list.\n",
    "\n",
    "``` {note}\n",
    "Note that `for thing in stuff:` is not same as `for (things in stuff):`.\n",
    "Here the `in` keyword is just a part of the for loop and it has a\n",
    "different meaning than it would have if we had `things in stuff` without\n",
    "a `for`. Trying to do `for (things in stuff):` creates an error.\n",
    "```"
   ]
  },
  {
   "cell_type": "code",
   "execution_count": 6,
   "metadata": {},
   "outputs": [
    {
     "name": "stdout",
     "output_type": "stream",
     "text": [
      "Gimme a r!\n",
      "Gimme a a!\n",
      "Gimme a c!\n",
      "Gimme a e!\n",
      "Gimme a c!\n",
      "Gimme a a!\n",
      "Gimme a r!\n",
      "What's that spell?!! racecar!\n"
     ]
    }
   ],
   "source": [
    "word = 'racecar'\n",
    "for letter in word:\n",
    "    print(f'Gimme a {letter}!')\n",
    "\n",
    "print(f\"What's that spell?!! {word}!\")"
   ]
  },
  {
   "cell_type": "markdown",
   "metadata": {},
   "source": [
    "A very common pattern is to use `for` with the [range()](https://www.w3schools.com/python/ref_func_range.asp). range() gives us a sequence of integers up to some value (non-inclusive of the end-value) and is typically used for looping."
   ]
  },
  {
   "cell_type": "code",
   "execution_count": 7,
   "metadata": {},
   "outputs": [
    {
     "data": {
      "text/plain": [
       "range(0, 10)"
      ]
     },
     "execution_count": 7,
     "metadata": {},
     "output_type": "execute_result"
    }
   ],
   "source": [
    "range(10)"
   ]
  },
  {
   "cell_type": "code",
   "execution_count": 8,
   "metadata": {},
   "outputs": [
    {
     "data": {
      "text/plain": [
       "[0, 1, 2, 3, 4, 5, 6, 7, 8, 9]"
      ]
     },
     "execution_count": 8,
     "metadata": {},
     "output_type": "execute_result"
    }
   ],
   "source": [
    "list(range(10))"
   ]
  },
  {
   "cell_type": "code",
   "execution_count": 9,
   "metadata": {},
   "outputs": [
    {
     "name": "stdout",
     "output_type": "stream",
     "text": [
      "0\n",
      "1\n",
      "2\n",
      "3\n",
      "4\n",
      "5\n",
      "6\n",
      "7\n",
      "8\n",
      "9\n"
     ]
    }
   ],
   "source": [
    "for i in range(10):\n",
    "    print(i)"
   ]
  },
  {
   "cell_type": "markdown",
   "metadata": {},
   "source": [
    "We can also specify a start value and a skip-by value with `range`:"
   ]
  },
  {
   "cell_type": "code",
   "execution_count": 10,
   "metadata": {},
   "outputs": [
    {
     "name": "stdout",
     "output_type": "stream",
     "text": [
      "1\n",
      "11\n",
      "21\n",
      "31\n",
      "41\n",
      "51\n",
      "61\n",
      "71\n",
      "81\n",
      "91\n"
     ]
    }
   ],
   "source": [
    "for i in range(1, 101, 10):\n",
    "    print(i)"
   ]
  },
  {
   "cell_type": "markdown",
   "metadata": {},
   "source": [
    "We can write a loop inside another loop to iterate over multiple dimensions of data:"
   ]
  },
  {
   "cell_type": "code",
   "execution_count": 12,
   "metadata": {},
   "outputs": [
    {
     "name": "stdout",
     "output_type": "stream",
     "text": [
      "('science', 'a')\n",
      "('science', 'b')\n",
      "('science', 'c')\n",
      "('math', 'a')\n",
      "('math', 'b')\n",
      "('math', 'c')\n",
      "('history', 'a')\n",
      "('history', 'b')\n",
      "('history', 'c')\n"
     ]
    }
   ],
   "source": [
    "for subjects in ['science', 'math', 'history']:\n",
    "    for grade in ['a', 'b', 'c']:\n",
    "        print((subjects, grade))"
   ]
  },
  {
   "cell_type": "code",
   "execution_count": 20,
   "metadata": {},
   "outputs": [
    {
     "name": "stdout",
     "output_type": "stream",
     "text": [
      "science a\n",
      "math b\n",
      "history c\n"
     ]
    }
   ],
   "source": [
    "subjects = ['science', 'math', 'history']\n",
    "grades = ['a', 'b', 'c']\n",
    "for number in range(3):\n",
    "    print(subjects[number], grades[number])"
   ]
  },
  {
   "cell_type": "markdown",
   "metadata": {},
   "source": [
    "There are many clever ways of doing these kinds of things in Python. When looping over objects, I tend to use `zip()` and `enumerate()` quite a lot in my work. `zip()` returns a zip object which is an iterable of tuples."
   ]
  },
  {
   "cell_type": "code",
   "execution_count": 21,
   "metadata": {},
   "outputs": [
    {
     "name": "stdout",
     "output_type": "stream",
     "text": [
      "('science', 'a')\n",
      "('math', 'b')\n",
      "('history', 'c')\n"
     ]
    }
   ],
   "source": [
    "for number in zip(subjects, grades):\n",
    "    print(number)"
   ]
  },
  {
   "cell_type": "markdown",
   "metadata": {},
   "source": [
    "We notice that the variable `number` when used with zip() function, points to a tuple. We can even \"unpack\" these tuples directly in the `for` loop:"
   ]
  },
  {
   "cell_type": "code",
   "execution_count": 22,
   "metadata": {},
   "outputs": [
    {
     "name": "stdout",
     "output_type": "stream",
     "text": [
      "science a\n",
      "math b\n",
      "history c\n"
     ]
    }
   ],
   "source": [
    "for subject, grade in zip(subjects, grades):\n",
    "    print(subject, grade)"
   ]
  },
  {
   "cell_type": "markdown",
   "metadata": {},
   "source": [
    "`enumerate()` adds a counter to an iterable which we can use within the loop."
   ]
  },
  {
   "cell_type": "code",
   "execution_count": 23,
   "metadata": {},
   "outputs": [
    {
     "name": "stdout",
     "output_type": "stream",
     "text": [
      "(0, 'a')\n",
      "(1, 'b')\n",
      "(2, 'c')\n"
     ]
    }
   ],
   "source": [
    "for i in enumerate(grades):\n",
    "    print(i)"
   ]
  },
  {
   "cell_type": "code",
   "execution_count": 24,
   "metadata": {},
   "outputs": [
    {
     "name": "stdout",
     "output_type": "stream",
     "text": [
      "index 0, value a\n",
      "index 1, value b\n",
      "index 2, value c\n"
     ]
    }
   ],
   "source": [
    "for index, value in enumerate(grades):\n",
    "    print(f\"index {index}, value {value}\")"
   ]
  },
  {
   "cell_type": "markdown",
   "metadata": {},
   "source": [
    "```` {note}\n",
    "There's only one big limitation with for looping over lists. We\n",
    "shouldn't modify the list in the for loop. If we do, the results can\n",
    "be surprising:\n",
    "\n",
    "``` Python\n",
    ">>> stuff = ['hello', 'hi', 'how are you doing', 'im fine', 'how about you']\n",
    ">>> for thing in stuff:\n",
    "...     stuff.remove(thing)\n",
    "...\n",
    ">>> stuff\n",
    "['hi', 'im fine']\n",
    "```\n",
    "````\n"
   ]
  },
  {
   "cell_type": "markdown",
   "metadata": {},
   "source": [
    "## While loops\n",
    "\n",
    "We can also use a [`while` loop](https://docs.python.org/3/reference/compound_stmts.html#while) to execute a block of code several times. They are very similar to how a if statement works. But beware! If the conditional expression is always `True`, then you've got an infintite loop! "
   ]
  },
  {
   "cell_type": "code",
   "execution_count": 25,
   "metadata": {},
   "outputs": [
    {
     "name": "stdout",
     "output_type": "stream",
     "text": [
      "Oh! it's raining!\n"
     ]
    }
   ],
   "source": [
    "its_raining = True\n",
    "if its_raining:\n",
    "    print(\"Oh! it's raining!\")"
   ]
  },
  {
   "cell_type": "markdown",
   "metadata": {},
   "source": [
    "While loop would look something like this\n",
    "\n",
    "``` Python\n",
    "its_raining = True\n",
    "while its_raining:\n",
    "    print(\"Oh! it's raining!\")\n",
    "    # we'll jump back to the line with the word \"while\" from here\n",
    "print(\"It's not raining anymore.\")\n",
    "```"
   ]
  },
  {
   "cell_type": "markdown",
   "metadata": {},
   "source": [
    "If you're not familiar with while loops, the program's output may be a\n",
    "bit surprising:\n",
    "\n",
    "    Oh! it's raining!\n",
    "    Oh! it's raining!\n",
    "    Oh! it's raining!\n",
    "    Oh! it's raining!\n",
    "    Oh! it's raining!\n",
    "    Oh! it's raining!\n",
    "    Oh! it's raining!\n",
    "    Oh! it's raining!\n",
    "    Oh! it's raining!\n",
    "    Oh! it's raining!\n",
    "    Oh! it's raining!\n",
    "    Oh! it's raining!\n",
    "    Oh! it's raining!\n",
    "    Oh! it's raining!\n",
    "    Oh! it's raining!\n",
    "    (much more raining)\n",
    "\n",
    "Again, this program does not break your computer. It just prints the\n",
    "same thing multiple times. We can interrupt it by pressing Ctrl+C.\n",
    "\n",
    "In this example, `its_raining` was the **condition**. If something in\n",
    "the while loop would have set `its_raining` to False, the loop would\n",
    "have ended and the program would have printed `It's not raining anymore`.\n",
    "\n",
    "Let's actually create a program that does just that:"
   ]
  },
  {
   "cell_type": "code",
   "execution_count": 31,
   "metadata": {},
   "outputs": [
    {
     "name": "stdout",
     "output_type": "stream",
     "text": [
      "1 Oh! it's raining!\n",
      "2 Oh! it's raining!\n",
      "3 Oh! it's raining!\n",
      "4 Oh! it's raining!\n",
      "5 Oh! it's raining!\n",
      "6 Oh! it's raining!\n",
      "7 Oh! it's raining!\n",
      "8 Oh! it's raining!\n",
      "9 Oh! it's raining!\n",
      "10 Oh! it's raining!\n",
      "It's not raining anymore.\n"
     ]
    }
   ],
   "source": [
    "its_raining = True\n",
    "counter = 1\n",
    "while its_raining and counter < 11:\n",
    "    print(f\"{counter} Oh! it's raining!\")\n",
    "    counter = counter + 1\n",
    "    \n",
    "print(\"It's not raining anymore.\")"
   ]
  },
  {
   "cell_type": "markdown",
   "metadata": {},
   "source": [
    "Let's read the `while` statement above as if it were in English. It means, “While `its_raining` is True and the value of counter is less than 10, display the print statement and then increase counter by 1. When the counter reaches 10, it ends the loop”.\n",
    "\n",
    "Hence, in some cases, we may want to force a `while` loop to stop based on some criteria, using the `break` keyword."
   ]
  },
  {
   "cell_type": "code",
   "execution_count": 33,
   "metadata": {},
   "outputs": [
    {
     "name": "stdout",
     "output_type": "stream",
     "text": [
      "123\n",
      "370\n",
      "185\n",
      "556\n",
      "278\n",
      "139\n",
      "418\n",
      "209\n",
      "628\n",
      "314\n",
      "Ugh, too many iterations!\n"
     ]
    }
   ],
   "source": [
    "number = 123\n",
    "counter = 0\n",
    "while number != 1:\n",
    "    print(int(number))\n",
    "    if number % 2 == 0: # number is even\n",
    "        number = number / 2\n",
    "    else: # number is odd\n",
    "        number = number * 3 + 1\n",
    "    counter = counter + 1\n",
    "    if counter == 10:\n",
    "        print(f\"Ugh, too many iterations!\")\n",
    "        break"
   ]
  },
  {
   "cell_type": "markdown",
   "metadata": {},
   "source": [
    "The `continue` keyword is similar to `break` but won't stop the loop. Instead, it just restarts the loop from the top."
   ]
  },
  {
   "cell_type": "code",
   "execution_count": 36,
   "metadata": {},
   "outputs": [
    {
     "name": "stdout",
     "output_type": "stream",
     "text": [
      "10\n",
      "8\n",
      "6\n",
      "4\n",
      "2\n",
      "Blast off!\n"
     ]
    }
   ],
   "source": [
    "number = 10\n",
    "while number > 0:\n",
    "    if number % 2 != 0: # n is odd\n",
    "        number = number - 1\n",
    "        continue\n",
    "        break  # this line is never executed because continue restarts the loop from the top\n",
    "    print(number)\n",
    "    number = number - 1\n",
    "\n",
    "print(\"Blast off!\")"
   ]
  },
  {
   "cell_type": "markdown",
   "metadata": {},
   "source": [
    "## Until loops\n",
    "\n",
    "Python doesn't have until loops. If we need an until loop, we can use\n",
    "`while not`:"
   ]
  },
  {
   "cell_type": "code",
   "execution_count": 37,
   "metadata": {},
   "outputs": [
    {
     "name": "stdout",
     "output_type": "stream",
     "text": [
      "It's not raining.\n",
      "Is it raining? (y/n) n\n",
      "It's not raining.\n",
      "Is it raining? (y/n) n\n",
      "It's not raining.\n",
      "Is it raining? (y/n) y\n",
      "It's raining!\n"
     ]
    }
   ],
   "source": [
    "raining = False\n",
    "while not raining:\n",
    "    print(\"It's not raining.\")\n",
    "    if input(\"Is it raining? (y/n) \") == 'y':\n",
    "        raining = True\n",
    "print(\"It's raining!\")"
   ]
  },
  {
   "cell_type": "markdown",
   "metadata": {},
   "source": [
    "```{raw} html\n",
    "<script\n",
    "   type=\"text/javascript\"\n",
    "   src=\"https://utteranc.es/client.js\"\n",
    "   async=\"async\"\n",
    "   repo=\"MultiverseDF/book\"\n",
    "   issue-term=\"pathname\"\n",
    "   theme=\"github-light\"\n",
    "   label=\"💬 comment\"\n",
    "   crossorigin=\"anonymous\"\n",
    "/>\n",
    "```"
   ]
  }
 ],
 "metadata": {
  "kernelspec": {
   "display_name": "Python 3",
   "language": "python",
   "name": "python3"
  },
  "language_info": {
   "codemirror_mode": {
    "name": "ipython",
    "version": 3
   },
   "file_extension": ".py",
   "mimetype": "text/x-python",
   "name": "python",
   "nbconvert_exporter": "python",
   "pygments_lexer": "ipython3",
   "version": "3.8.5"
  }
 },
 "nbformat": 4,
 "nbformat_minor": 2
}
