{
 "cells": [
  {
   "cell_type": "markdown",
   "metadata": {},
   "source": [
    "# Dictionaries and Comprehensions\n",
    "<hr style=\"height:0.6px;border:none;color:#666;background-color:#666;\" />\n",
    "\n",
    "Now we know how [lists and tuples](https://ashrayshetty.netlify.app/chapters/02/list%20and%20tuples) work and how\n",
    "to [for loop](https://ashrayshetty.netlify.app/chapters/02/loops) over them. If we make some kind of\n",
    "program that needs to keep track of people's names and favorite pets,\n",
    "we can use a list for that:"
   ]
  },
  {
   "cell_type": "code",
   "execution_count": 1,
   "metadata": {},
   "outputs": [],
   "source": [
    "names_and_pets = [\n",
    "    ('Jerry', 'cats'),\n",
    "    ('Tom', 'cats and dogs'),\n",
    "    ('Mario', 'cats'),\n",
    "]"
   ]
  },
  {
   "cell_type": "markdown",
   "metadata": {},
   "source": [
    "Then to check if cats are Mario's favorite pets we can do\n",
    "`('Mario', 'cats') in names_and_pets`. Or we can add new people's\n",
    "favorite pets easily by appending new `(name, pets)` tuples to the list.\n",
    "\n",
    "But what if we need to check if we know anything about someone's\n",
    "favorite pets? `'Tom' in names_and_pets` is always False because the\n",
    "pet list consists of `(name, pets)` pairs instead of just names, so we\n",
    "need to for loop over the whole pet list:\n",
    "\n",
    "``` Python\n",
    "found_tom = False\n",
    "for pair in names_and_pets:\n",
    "    if pair[0] == 'Tom':\n",
    "        found_tom = True\n",
    "        break\n",
    "if found_tom:\n",
    "    # do something\n",
    "```\n",
    "Or what if we need to find out what Tom's favorite pets are? That\n",
    "also requires going through the whole list.\n",
    "\n",
    "``` Python\n",
    "pets = None\n",
    "for pair in names_and_pets:\n",
    "    if pair[0] == 'Tom':\n",
    "        pets = pair[1]\n",
    "        break\n",
    "# make sure pets is not None and do something with it\n",
    "```\n",
    "As you can see, a list of `(name, pets)` pairs is not an ideal\n",
    "way to store names and favorite pets.\n",
    "\n",
    "## What are dictionaries?\n",
    "\n",
    "A better way to store information about favorite pets might be a\n",
    "dictionary. A dictionary is a mapping between key-values pairs and is defined with curly-brackets:\n"
   ]
  },
  {
   "cell_type": "code",
   "execution_count": 2,
   "metadata": {},
   "outputs": [],
   "source": [
    "favorite_pets = {\n",
    "    'Jerry': 'cats',\n",
    "    'Tom': 'cats and dogs',\n",
    "    'Mario': 'cats',\n",
    "}"
   ]
  },
  {
   "cell_type": "markdown",
   "metadata": {},
   "source": [
    "Here `'Jerry'` and `'Tom'` are **keys** in the dictionary, and\n",
    "`'cats'` and `'cats and dogs'` are their **values**. Dictionaries are\n",
    "often named by their values. This dictionary has favorite pets as its\n",
    "values so the variable is named `favorite_pets`.\n",
    "\n",
    "There are a few big differences between dictionaries and lists of pairs:\n",
    "\n",
    "- Dictionaries are not ordered. There are **no guarantees** about which\n",
    "    order the `name: pets` pairs appear in when we do something\n",
    "    with the dictionary.\n",
    "- Checking if a key is in the dictionary is simple and fast. We don't\n",
    "    need a for loop through the whole dictionary.\n",
    "- Getting the value of a key is also simple and fast.\n",
    "- We can't have the same key in the dictionary multiple times, but\n",
    "    multiple different keys can have the same value. This means that\n",
    "    **multiple people can't have the same name, but they can have the\n",
    "    same favorite pets**.\n",
    "\n",
    "But wait... this is a lot like variables are! Our variables are not\n",
    "ordered, getting a value of a variable is fast and easy and we can't\n",
    "have multiple variables with the same name.\n",
    "\n",
    "Variables are actually stored in a dictionary. We can get that\n",
    "dictionary with the globals function. In this dictionary, keys are\n",
    "variable names and values are what our variables point to.\n",
    "\n",
    "## What can we do with dictionaries?\n",
    "\n",
    "We can access a specific field of a dictionary with square brackets, this is a lot better than using `for` loop."
   ]
  },
  {
   "cell_type": "code",
   "execution_count": 3,
   "metadata": {},
   "outputs": [
    {
     "data": {
      "text/plain": [
       "'cats'"
      ]
     },
     "execution_count": 3,
     "metadata": {},
     "output_type": "execute_result"
    }
   ],
   "source": [
    "favorite_pets['Jerry']"
   ]
  },
  {
   "cell_type": "markdown",
   "metadata": {},
   "source": [
    "We can also edit dictionaries (they are mutable):\n",
    "\n"
   ]
  },
  {
   "cell_type": "code",
   "execution_count": 4,
   "metadata": {},
   "outputs": [
    {
     "data": {
      "text/plain": [
       "{'Jerry': 'cats', 'Tom': 'cats and dogs', 'Mario': 'kitten'}"
      ]
     },
     "execution_count": 4,
     "metadata": {},
     "output_type": "execute_result"
    }
   ],
   "source": [
    "favorite_pets['Mario'] = 'kitten'\n",
    "favorite_pets"
   ]
  },
  {
   "cell_type": "code",
   "execution_count": 5,
   "metadata": {},
   "outputs": [
    {
     "data": {
      "text/plain": [
       "{'Jerry': 'cats',\n",
       " 'Tom': 'cats and dogs',\n",
       " 'Mario': 'kitten',\n",
       " 'Bruce': 'hamster'}"
      ]
     },
     "execution_count": 5,
     "metadata": {},
     "output_type": "execute_result"
    }
   ],
   "source": [
    "# we can also add a new key value pair like shown below\n",
    "favorite_pets['Bruce'] = 'hamster'\n",
    "favorite_pets"
   ]
  },
  {
   "cell_type": "markdown",
   "metadata": {},
   "source": [
    "\n",
    "Dictionaries have some similarities with lists. For example, both\n",
    "lists and dictionaries have a length.\n",
    "\n",
    "``` Python\n",
    ">>> len(names_and_pets)     # contains three elements\n",
    "3\n",
    ">>> len(favorite_pets)    # contains three key:value pairs\n",
    "3\n",
    "```"
   ]
  },
  {
   "cell_type": "markdown",
   "metadata": {},
   "source": [
    "For looping over a dictionary gets its keys, and checking if something\n",
    "is in the dictionary checks if the dictionary has a key like that. This\n",
    "can be confusing at first but you'll get used to this."
   ]
  },
  {
   "cell_type": "code",
   "execution_count": 6,
   "metadata": {},
   "outputs": [
    {
     "data": {
      "text/plain": [
       "True"
      ]
     },
     "execution_count": 6,
     "metadata": {},
     "output_type": "execute_result"
    }
   ],
   "source": [
    "'Bruce' in favorite_pets"
   ]
  },
  {
   "cell_type": "code",
   "execution_count": 7,
   "metadata": {},
   "outputs": [
    {
     "data": {
      "text/plain": [
       "False"
      ]
     },
     "execution_count": 7,
     "metadata": {},
     "output_type": "execute_result"
    }
   ],
   "source": [
    "'Tony' in favorite_pets"
   ]
  },
  {
   "cell_type": "code",
   "execution_count": 8,
   "metadata": {},
   "outputs": [
    {
     "name": "stdout",
     "output_type": "stream",
     "text": [
      "Jerry\n",
      "Tom\n",
      "Mario\n",
      "Bruce\n"
     ]
    }
   ],
   "source": [
    "for name in favorite_pets:\n",
    "    print(name)"
   ]
  },
  {
   "cell_type": "markdown",
   "metadata": {},
   "source": [
    "Dictionaries have a values method that we can use if we want to do\n",
    "something with the values:"
   ]
  },
  {
   "cell_type": "code",
   "execution_count": 9,
   "metadata": {},
   "outputs": [
    {
     "data": {
      "text/plain": [
       "dict_values(['cats', 'cats and dogs', 'kitten', 'hamster'])"
      ]
     },
     "execution_count": 9,
     "metadata": {},
     "output_type": "execute_result"
    }
   ],
   "source": [
    "favorite_pets.values()"
   ]
  },
  {
   "cell_type": "markdown",
   "metadata": {},
   "source": [
    "The values method returned a `dict_values` object. Things like this\n",
    "behave a lot like lists and usually we don't need to convert them to\n",
    "lists."
   ]
  },
  {
   "cell_type": "code",
   "execution_count": 10,
   "metadata": {},
   "outputs": [
    {
     "name": "stdout",
     "output_type": "stream",
     "text": [
      "cats\n",
      "cats and dogs\n",
      "kitten\n",
      "hamster\n"
     ]
    }
   ],
   "source": [
    "for pets in favorite_pets.values():\n",
    "    print(pets)"
   ]
  },
  {
   "cell_type": "markdown",
   "metadata": {},
   "source": [
    "We can do things like `list(favorite_pets.values())` if we need a real\n",
    "list for some reason, but doing that can slow down our program if the\n",
    "dictionary is big. There's also a keys method, but usually we don't need\n",
    "it because the dictionary itself behaves a lot like a list of keys.\n",
    "\n",
    "If we need both keys and values we can use the items method with the\n",
    "`for first, second in thing` trick."
   ]
  },
  {
   "cell_type": "code",
   "execution_count": 11,
   "metadata": {},
   "outputs": [
    {
     "data": {
      "text/plain": [
       "dict_items([('Jerry', 'cats'), ('Tom', 'cats and dogs'), ('Mario', 'kitten'), ('Bruce', 'hamster')])"
      ]
     },
     "execution_count": 11,
     "metadata": {},
     "output_type": "execute_result"
    }
   ],
   "source": [
    "favorite_pets.items()"
   ]
  },
  {
   "cell_type": "code",
   "execution_count": 12,
   "metadata": {},
   "outputs": [
    {
     "name": "stdout",
     "output_type": "stream",
     "text": [
      "cats are Jerry's favorite pets\n",
      "cats and dogs are Tom's favorite pets\n",
      "kitten are Mario's favorite pets\n",
      "hamster are Bruce's favorite pets\n"
     ]
    }
   ],
   "source": [
    "for name, pets in favorite_pets.items():\n",
    "    print(f\"{pets} are {name}'s favorite pets\")"
   ]
  },
  {
   "cell_type": "markdown",
   "metadata": {},
   "source": [
    "This is also useful for checking if the dictionary has a `key: value`\n",
    "pair."
   ]
  },
  {
   "cell_type": "code",
   "execution_count": 13,
   "metadata": {},
   "outputs": [
    {
     "data": {
      "text/plain": [
       "True"
      ]
     },
     "execution_count": 13,
     "metadata": {},
     "output_type": "execute_result"
    }
   ],
   "source": [
    "('Jerry', 'cats') in favorite_pets.items()"
   ]
  },
  {
   "cell_type": "code",
   "execution_count": 14,
   "metadata": {},
   "outputs": [
    {
     "data": {
      "text/plain": [
       "False"
      ]
     },
     "execution_count": 14,
     "metadata": {},
     "output_type": "execute_result"
    }
   ],
   "source": [
    "('Dr. House', 'cats') in favorite_pets.items()"
   ]
  },
  {
   "cell_type": "markdown",
   "metadata": {},
   "source": [
    "You’ll get an error if you try to access a non-existent key:"
   ]
  },
  {
   "cell_type": "code",
   "execution_count": 15,
   "metadata": {},
   "outputs": [
    {
     "ename": "KeyError",
     "evalue": "'Dr. House'",
     "output_type": "error",
     "traceback": [
      "\u001b[0;31m---------------------------------------------------------------------------\u001b[0m",
      "\u001b[0;31mKeyError\u001b[0m                                  Traceback (most recent call last)",
      "\u001b[0;32m<ipython-input-15-e819417caf69>\u001b[0m in \u001b[0;36m<module>\u001b[0;34m\u001b[0m\n\u001b[0;32m----> 1\u001b[0;31m \u001b[0mfavorite_pets\u001b[0m\u001b[0;34m[\u001b[0m\u001b[0;34m'Dr. House'\u001b[0m\u001b[0;34m]\u001b[0m\u001b[0;34m\u001b[0m\u001b[0;34m\u001b[0m\u001b[0m\n\u001b[0m",
      "\u001b[0;31mKeyError\u001b[0m: 'Dr. House'"
     ]
    }
   ],
   "source": [
    "favorite_pets['Dr. House']"
   ]
  },
  {
   "cell_type": "markdown",
   "metadata": {},
   "source": [
    "## Comprehensions\n",
    "\n",
    "Comprehensions allow us to build lists/tuples/dictionaries in one convenient, compact line of code. Below is a standard `for` loop you might use to iterate over an iterable and create a list:"
   ]
  },
  {
   "cell_type": "code",
   "execution_count": 16,
   "metadata": {},
   "outputs": [
    {
     "name": "stdout",
     "output_type": "stream",
     "text": [
      "['S', 'M', 'A', 'R', 'T', '!']\n"
     ]
    }
   ],
   "source": [
    "acronym = ['Specific', 'Measurable', 'Attainable', 'Realistic', 'Time-bound','!']\n",
    "first_letters = []\n",
    "for word in acronym:\n",
    "    first_letters.append(word[0])\n",
    "print(first_letters)"
   ]
  },
  {
   "cell_type": "markdown",
   "metadata": {},
   "source": [
    "List comprehension allows us to do this in one compact line:"
   ]
  },
  {
   "cell_type": "code",
   "execution_count": 17,
   "metadata": {},
   "outputs": [
    {
     "data": {
      "text/plain": [
       "['S', 'M', 'A', 'R', 'T', '!']"
      ]
     },
     "execution_count": 17,
     "metadata": {},
     "output_type": "execute_result"
    }
   ],
   "source": [
    "letters = [word[0] for word in acronym]  # list comprehension\n",
    "letters"
   ]
  },
  {
   "cell_type": "markdown",
   "metadata": {},
   "source": [
    "We can make things more complicated by doing multiple iteration or conditional iteration:"
   ]
  },
  {
   "cell_type": "code",
   "execution_count": 18,
   "metadata": {},
   "outputs": [
    {
     "data": {
      "text/plain": [
       "[(0, 0),\n",
       " (0, 1),\n",
       " (0, 2),\n",
       " (0, 3),\n",
       " (1, 0),\n",
       " (1, 1),\n",
       " (1, 2),\n",
       " (1, 3),\n",
       " (2, 0),\n",
       " (2, 1),\n",
       " (2, 2),\n",
       " (2, 3)]"
      ]
     },
     "execution_count": 18,
     "metadata": {},
     "output_type": "execute_result"
    }
   ],
   "source": [
    "[(i, j) for i in range(3) for j in range(4)]"
   ]
  },
  {
   "cell_type": "code",
   "execution_count": 19,
   "metadata": {},
   "outputs": [
    {
     "data": {
      "text/plain": [
       "[0, 2, 4, 6, 8, 10]"
      ]
     },
     "execution_count": 19,
     "metadata": {},
     "output_type": "execute_result"
    }
   ],
   "source": [
    "[i for i in range(11) if i % 2 == 0]  # condition the iterator, select only even numbers"
   ]
  },
  {
   "cell_type": "code",
   "execution_count": 20,
   "metadata": {},
   "outputs": [
    {
     "data": {
      "text/plain": [
       "[0, -1, 2, -3, 4, -5, 6, -7, 8, -9, 10]"
      ]
     },
     "execution_count": 20,
     "metadata": {},
     "output_type": "execute_result"
    }
   ],
   "source": [
    "[-i if i % 2 else i for i in range(11)]  # condition the value, -ve odd and +ve even numbers"
   ]
  },
  {
   "cell_type": "markdown",
   "metadata": {},
   "source": [
    "There is also dictionary comprehension:"
   ]
  },
  {
   "cell_type": "code",
   "execution_count": 21,
   "metadata": {},
   "outputs": [
    {
     "data": {
      "text/plain": [
       "{'hello': 5, 'hi': 2, 'thanks': 6, 'antidepressant': 14}"
      ]
     },
     "execution_count": 21,
     "metadata": {},
     "output_type": "execute_result"
    }
   ],
   "source": [
    "words = ['hello', 'hi', 'thanks', 'antidepressant']\n",
    "word_lengths = {word:len(word) for word in words} # dictionary comprehension\n",
    "word_lengths"
   ]
  }
 ],
 "metadata": {
  "kernelspec": {
   "display_name": "Python 3",
   "language": "python",
   "name": "python3"
  },
  "language_info": {
   "codemirror_mode": {
    "name": "ipython",
    "version": 3
   },
   "file_extension": ".py",
   "mimetype": "text/x-python",
   "name": "python",
   "nbconvert_exporter": "python",
   "pygments_lexer": "ipython3",
   "version": "3.8.5"
  }
 },
 "nbformat": 4,
 "nbformat_minor": 2
}
