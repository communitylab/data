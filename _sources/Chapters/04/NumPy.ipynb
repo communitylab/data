{
 "cells": [
  {
   "cell_type": "markdown",
   "metadata": {},
   "source": [
    "# 5. Introduction to Numpy\n",
    "<hr style=\"height:1px;border:none;color:#666;background-color:#666;\" />\n",
    "\n",
    "![](numpy.png)\n",
    "\n",
    "NumPy stands for \"Numerical Python\" and it is the standard Python library used for working with arrays (i.e., vectors & matrices), linear algerba, and other numerical computations. NumPy is written in C, making NumPy arrays faster and more memory efficient than Python lists or arrays, read more: ([link 1](https://www.datadiscuss.com/proof-that-numpy-is-much-faster-than-normal-python-array/), [link 2](https://www.jessicayung.com/numpy-arrays-memory-and-strides/), [link 3](https://www.labri.fr/perso/nrougier/from-python-to-numpy/)).\n",
    "\n",
    "NumPy can be installed using `conda` (if not already):\n",
    "\n",
    "```\n",
    "conda install numpy\n",
    "```\n",
    "\n",
    "Knowing how to use Numpy is *essential* in domains such as machine learning, image analysis, and image processing.\n",
    "\n",
    "## Contents\n",
    "1. The ndarray\n",
    "2. Indexing\n",
    "3. Array math\n",
    "4. Broadcasting\n",
    "\n",
    "Let's start by importing numpy, which is commonly done as follows:"
   ]
  },
  {
   "cell_type": "code",
   "execution_count": 1,
   "metadata": {},
   "outputs": [],
   "source": [
    "import numpy as np"
   ]
  },
  {
   "cell_type": "markdown",
   "metadata": {},
   "source": [
    "## 2. NumPy Arrays\n",
    "<hr>\n",
    "\n",
    "### What are Arrays?\n",
    "Arrays are \"n-dimensional\" data structures that can contain all the basic Python data types, e.g., floats, integers, strings etc, but work best with numeric data. `ndarrays` (which stands for *n*-*d*imensional array) are homogenous, which means that items in the array should be of the same type. ndarrays are also compatible with numpy's vast collection of in-built functions!\n",
    "\n",
    "![](numpy_arrays.png)\n",
    "\n",
    "Source: [Medium.com](https://medium.com/hackernoon/10-machine-learning-data-science-and-deep-learning-courses-for-programmers-7edc56078cde)\n",
    "\n"
   ]
  },
  {
   "cell_type": "markdown",
   "metadata": {},
   "source": [
    "### Python lists vs. numpy arrays\n",
    "Basically, numpy arrays are a lot like Python lists. The major difference, however, is that *numpy arrays may contain only a single data-type*, while Python lists may contain different data-types within the same list.\n",
    "\n",
    "Let check this out:"
   ]
  },
  {
   "cell_type": "code",
   "execution_count": 2,
   "metadata": {},
   "outputs": [
    {
     "name": "stdout",
     "output_type": "stream",
     "text": [
      "1 is a: <class 'int'>\n",
      "2.5 is a: <class 'float'>\n",
      "whatever is a: <class 'str'>\n",
      "[3, 4, 5] is a: <class 'list'>\n"
     ]
    }
   ],
   "source": [
    "# Python lists may contain mixed data-types: an integer, a float, a string, a list\n",
    "python_list = [1, 2.5, \"whatever\", [3, 4, 5]] \n",
    "\n",
    "for value in python_list:\n",
    "    \n",
    "    print(f\"{str(value)} is a: {type(value)}\")"
   ]
  },
  {
   "cell_type": "markdown",
   "metadata": {},
   "source": [
    "Unlike Python lists, numpy only allows entries of the same data-type. In fact, if you try to make a numpy array with different data-types, numpy will force the entries into the same data-type (in a smart way), as is shown in the example below:"
   ]
  },
  {
   "cell_type": "code",
   "execution_count": 3,
   "metadata": {},
   "outputs": [
    {
     "name": "stdout",
     "output_type": "stream",
     "text": [
      "1.0\n",
      "this is a: <class 'numpy.float64'> \n",
      "\n",
      "2.0\n",
      "this is a: <class 'numpy.float64'> \n",
      "\n",
      "3.5\n",
      "this is a: <class 'numpy.float64'> \n",
      "\n"
     ]
    }
   ],
   "source": [
    "# Importantly, you often specify your arrays as Python lists first, and then convert them to numpy\n",
    "to_convert_to_numpy = [1, 2, 3.5]               # specify python list ...\n",
    "numpy_array = np.array(to_convert_to_numpy)     # ... and convert ('cast') it to numpy\n",
    "\n",
    "for entry in numpy_array:\n",
    "    \n",
    "    print(entry)\n",
    "    print(f'this is a: {type(entry)} \\n')"
   ]
  },
  {
   "cell_type": "markdown",
   "metadata": {},
   "source": [
    "As you can see, Numpy converted our original list (to_convert_to_numpy), which contained both integers and floats, to an array with only floats! You might think that such a data structure that only allows one single data type is not ideal. However, the very fact that it only contains a single data-type makes operations on numpy arrays extremely fast. For example, loops over numpy arrays are often way faster than loops over python lists. This is because, internally, Python has to check the data-type of each loop entry before doing something with that entry. Because numpy arrays one allow a single data-type, it only has to check for the entries' data type **once**. If you imagine looping over an array or list of length 100,000, you probably understand that the numpy loop is way faster."
   ]
  },
  {
   "cell_type": "markdown",
   "metadata": {},
   "source": [
    "### Creating numpy arrays\n",
    "As shown an earlier example, numpy arrays can be created as follows:\n",
    "\n",
    "1. Define a Python list, e.g. `my_list = [0, 1, 2]` \n",
    "2. Convert the list to a numpy array, e.g. `numpy_array = np.array(my_list)`\n",
    "\n",
    "Importantly, a simple Python list will be converted to a 1D numpy array, but a nested Python list will be converted to a 2D (or even higher-dimensional array). Nesting is simply combining different lists, separated by commans, as is shown here:"
   ]
  },
  {
   "cell_type": "code",
   "execution_count": 4,
   "metadata": {},
   "outputs": [
    {
     "name": "stdout",
     "output_type": "stream",
     "text": [
      "A 1D (or 'flat') array:\n",
      "[1 2 3] \n",
      "\n",
      "A 2D array:\n",
      "[[1 2 3]\n",
      " [4 5 6]\n",
      " [7 8 9]]\n"
     ]
    }
   ],
   "source": [
    "my_list = [1, 2, 3]\n",
    "my_array = np.array(my_list)\n",
    "\n",
    "print(\"A 1D (or 'flat') array:\")\n",
    "print(my_array, '\\n')\n",
    "\n",
    "my_nested_list = [[1, 2, 3],\n",
    "                  [4, 5, 6],\n",
    "                  [7, 8, 9]]\n",
    "\n",
    "my_2D_array = np.array(my_nested_list)\n",
    "print(\"A 2D array:\")\n",
    "print(my_2D_array)"
   ]
  },
  {
   "cell_type": "markdown",
   "metadata": {},
   "source": [
    "<div class='alert alert-warning'>\n",
    "    <b>ToDo</b>: Create the following 1D array:\n",
    "\n",
    "\\begin{align}\n",
    "\\begin{bmatrix}\n",
    "5 & 3 & 2 & 8 & 9\n",
    "\\end{bmatrix}\n",
    "\\end{align}\n",
    "\n",
    "and store it in a variable named <tt>vec</tt>.\n",
    "</div>"
   ]
  },
  {
   "cell_type": "code",
   "execution_count": 5,
   "metadata": {},
   "outputs": [],
   "source": [
    "# YOUR CODE HERE"
   ]
  },
  {
   "cell_type": "markdown",
   "metadata": {},
   "source": [
    "<div class='alert alert-warning'>\n",
    "    <b>ToDo</b>:\n",
    "    \n",
    "Create the following matrix (2D array):\n",
    "\n",
    "\\begin{align}\n",
    "\\begin{bmatrix}\n",
    "5 & 2 & 8 \\\\\n",
    "8 & 2 & 1 \\\\\n",
    "4 & 4 & 4 \\\\\n",
    "1 & 2 & 3\n",
    "\\end{bmatrix}\n",
    "\\end{align}\n",
    "\n",
    "and store it in a variable named <tt>arr_2d</tt>. Hint: start by creating a nested python list (like we did with the <tt>my_nested_list</tt> variable) and then convert it to numpy.\n",
    "</div>"
   ]
  },
  {
   "cell_type": "code",
   "execution_count": 7,
   "metadata": {},
   "outputs": [],
   "source": [
    "# YOUR CODE HERE"
   ]
  },
  {
   "cell_type": "markdown",
   "metadata": {},
   "source": [
    "As you can imagine, creating numpy arrays from nested lists becomes cumbersome if you want to create (large) arrays with more than 2 dimensions. There are, fortunately, a lot of other ways to create ('initialize') large, high-dimensional numpy arrays. One often-used method is to create an array with zeros using the numpy function `np.zeros`. This function takes one (mandatory) argument, which is a tuple with the dimensions of your desired array:"
   ]
  },
  {
   "cell_type": "code",
   "execution_count": 8,
   "metadata": {},
   "outputs": [
    {
     "name": "stdout",
     "output_type": "stream",
     "text": [
      "[[0. 0. 0. 0. 0.]\n",
      " [0. 0. 0. 0. 0.]]\n"
     ]
    }
   ],
   "source": [
    "my_desired_dimensions = (2, 5) # suppose I want to create a matrix with zeros of size 2 by 5\n",
    "my_array = np.zeros(my_desired_dimensions)\n",
    "\n",
    "print(my_array)"
   ]
  },
  {
   "cell_type": "markdown",
   "metadata": {},
   "source": [
    "Using arrays with zeros is often used in what is called 'pre-allocation', in which we create an 'empty' array with only zeros and for example, 'fill' that array in a loop. Below, we can see an example where we pre-allocate an array with 5 zeros, and fill that in a for-loop with the squares of 1 - 5."
   ]
  },
  {
   "cell_type": "code",
   "execution_count": 9,
   "metadata": {},
   "outputs": [
    {
     "name": "stdout",
     "output_type": "stream",
     "text": [
      "Original zeros-array\n",
      "[0. 0. 0. 0. 0.]\n",
      "\n",
      "Filled array\n",
      "[ 1.  4.  9. 16. 25.]\n"
     ]
    }
   ],
   "source": [
    "my_array = np.zeros(5)\n",
    "\n",
    "print('Original zeros-array')\n",
    "print(my_array)\n",
    "\n",
    "for i in range(5):  # notice the range function here! This loop now iterates over [0, 1, 2, 3, 4]\n",
    "    number_to_calculate_the_square_of = i + 1\n",
    "    my_array[i] = number_to_calculate_the_square_of ** 2\n",
    "\n",
    "print('\\nFilled array')\n",
    "print(my_array)"
   ]
  },
  {
   "cell_type": "markdown",
   "metadata": {},
   "source": [
    "In addition to `np.zeros`, you can create numpy arrays using other functions, like `np.ones` and `random` from the `np.random` module:"
   ]
  },
  {
   "cell_type": "code",
   "execution_count": 10,
   "metadata": {},
   "outputs": [
    {
     "name": "stdout",
     "output_type": "stream",
     "text": [
      "[[1. 1. 1. 1. 1. 1. 1. 1. 1. 1.]\n",
      " [1. 1. 1. 1. 1. 1. 1. 1. 1. 1.]\n",
      " [1. 1. 1. 1. 1. 1. 1. 1. 1. 1.]\n",
      " [1. 1. 1. 1. 1. 1. 1. 1. 1. 1.]\n",
      " [1. 1. 1. 1. 1. 1. 1. 1. 1. 1.]] \n",
      "\n",
      "[[0.26128563 0.42272127 0.39136103 0.26899306 0.74398355 0.15729989\n",
      "  0.20953463 0.60168266 0.67361637 0.52153336]\n",
      " [0.60284964 0.21125537 0.24321607 0.88746133 0.0594551  0.14951126\n",
      "  0.05402739 0.26400378 0.6184847  0.42648813]\n",
      " [0.79625788 0.32948868 0.57420788 0.18864782 0.19923328 0.99532862\n",
      "  0.82699025 0.79763984 0.94824526 0.23695406]\n",
      " [0.56101251 0.41276063 0.87119635 0.50911904 0.5172619  0.96655568\n",
      "  0.15572032 0.25255761 0.79727359 0.286775  ]\n",
      " [0.0987123  0.94499251 0.50375883 0.30695846 0.07370379 0.0434628\n",
      "  0.69009192 0.85096536 0.16476907 0.47678718]]\n"
     ]
    }
   ],
   "source": [
    "ones = np.ones((5, 10)) # create an array with ones\n",
    "print(ones, '\\n')\n",
    "\n",
    "rndom = np.random.random((5, 10)) # Create an array filled with random values (0 - 1 uniform)\n",
    "print(rndom)"
   ]
  },
  {
   "cell_type": "markdown",
   "metadata": {},
   "source": [
    "## Numpy indexing\n",
    "<hr>\n",
    "\n",
    "Indexing (extracting a single value of an array) and slicing (extracting multiple values - a subset - from an array) of numpy arrays is largely the same as with regular Python lists. Let's check out a couple of examples of a 1D array:"
   ]
  },
  {
   "cell_type": "code",
   "execution_count": 11,
   "metadata": {},
   "outputs": [
    {
     "name": "stdout",
     "output_type": "stream",
     "text": [
      "Full array:\n",
      "[10 11 12 13 14 15 16 17 18 19 20] \n",
      "\n"
     ]
    }
   ],
   "source": [
    "my_array = np.arange(10, 21)  # numpy equivalent of list(range(10, 21))\n",
    "print('Full array:')\n",
    "print(my_array, '\\n') "
   ]
  },
  {
   "cell_type": "code",
   "execution_count": 12,
   "metadata": {},
   "outputs": [
    {
     "name": "stdout",
     "output_type": "stream",
     "text": [
      "Index the first element:\n",
      "10\n"
     ]
    }
   ],
   "source": [
    "print(\"Index the first element:\")\n",
    "print(my_array[0])"
   ]
  },
  {
   "cell_type": "code",
   "execution_count": 13,
   "metadata": {},
   "outputs": [
    {
     "name": "stdout",
     "output_type": "stream",
     "text": [
      "Index the second-to-last element:\n",
      "19\n"
     ]
    }
   ],
   "source": [
    "print(\"Index the second-to-last element:\")\n",
    "print(my_array[-2])"
   ]
  },
  {
   "cell_type": "code",
   "execution_count": 14,
   "metadata": {},
   "outputs": [
    {
     "name": "stdout",
     "output_type": "stream",
     "text": [
      "Slice from 5 until (not including!) 8\n",
      "[15 16 17]\n"
     ]
    }
   ],
   "source": [
    "print(\"Slice from 5 until (not including!) 8\")\n",
    "print(my_array[5:8])"
   ]
  },
  {
   "cell_type": "code",
   "execution_count": 15,
   "metadata": {},
   "outputs": [
    {
     "name": "stdout",
     "output_type": "stream",
     "text": [
      "Slice from beginning until 4\n",
      "[10 11 12 13]\n"
     ]
    }
   ],
   "source": [
    "print(\"Slice from beginning until 4\")\n",
    "print(my_array[:4])"
   ]
  },
  {
   "cell_type": "markdown",
   "metadata": {},
   "source": [
    "Setting values in numpy arrays works the same way as lists:"
   ]
  },
  {
   "cell_type": "code",
   "execution_count": 16,
   "metadata": {},
   "outputs": [
    {
     "name": "stdout",
     "output_type": "stream",
     "text": [
      "[10000    11    12    13    14    15    16    17    18    19    20]\n",
      "[10000    11    12    13    14     0     0    17    18    19    20]\n"
     ]
    }
   ],
   "source": [
    "my_array = np.arange(10, 21)\n",
    "my_array[0] = 10000\n",
    "print(my_array)\n",
    "\n",
    "my_array[5:7] = 0\n",
    "print(my_array)"
   ]
  },
  {
   "cell_type": "markdown",
   "metadata": {},
   "source": [
    "### Multidimensional indexing\n",
    "Often, instead of working on and indexing 1D array, we'll work with multi-dimensional (>1D) arrays. Indexing multi-dimensional arrays is, again, quite similar to indexing and slicing list. \n",
    "\n",
    "Like indexing Python lists, indexing multidimensional numpy arrays is done with square brackets `[]`, in which you can put as many comma-delimited numbers as there are dimensions in your array. \n",
    "\n",
    "For example, suppose you have a 2D array of shape $3 \\times 3$ and you want to index the value in the first row and first column. You would do this as follows:"
   ]
  },
  {
   "cell_type": "code",
   "execution_count": 17,
   "metadata": {},
   "outputs": [
    {
     "name": "stdout",
     "output_type": "stream",
     "text": [
      "Value of first row and first column: 0.0\n"
     ]
    }
   ],
   "source": [
    "my_array = np.zeros((3, 3)) # 3 by 3 array with zeros\n",
    "indexed_value = my_array[0, 0]\n",
    "print(\"Value of first row and first column: %.1f\" % indexed_value)"
   ]
  },
  {
   "cell_type": "markdown",
   "metadata": {},
   "source": [
    "We can also extract sub-arrays using slicing/indexing. An important construct here is that we use a single colon `:` to select all values from a particular dimension. For example, if we want to select all column-values (second dimension) from only the first row (first dimension), do this:\n",
    "\n",
    "```\n",
    "some_2d_arr[0, :]\n",
    "```\n",
    "\n",
    "Let's look at an examples below:"
   ]
  },
  {
   "cell_type": "code",
   "execution_count": 18,
   "metadata": {},
   "outputs": [
    {
     "name": "stdout",
     "output_type": "stream",
     "text": [
      "[[1 2 3]\n",
      " [4 5 6]\n",
      " [7 8 9]] \n",
      "\n",
      "First row\n",
      "[1 2 3] \n",
      "\n",
      "First column\n",
      "[1 4 7]\n"
     ]
    }
   ],
   "source": [
    "my_array = np.array([[1, 2, 3],\n",
    "                     [4, 5, 6],\n",
    "                     [7, 8, 9]])\n",
    "\n",
    "print(my_array, '\\n')\n",
    "\n",
    "all_column_values_from_first_row = my_array[0, :]\n",
    "print('First row')\n",
    "print(all_column_values_from_first_row, '\\n')\n",
    "\n",
    "all_row_values_from_first_col = my_array[:, 0]\n",
    "print('First column')\n",
    "print(all_row_values_from_first_col)"
   ]
  },
  {
   "cell_type": "markdown",
   "metadata": {},
   "source": [
    "## Methods vs. functions\n",
    "<hr>\n",
    "In the previous tutorials, we learned that, in addition to functions, 'methods' exist that are like functions of an object. We've seen examples of list methods, e.g. `my_list.append(1)`, and string methods, e.g. `my_string.replace('a', 'b')`.\n",
    "\n",
    "Like lists and strings, numpy arrays have a lot of convenient methods that you can call (like the `astype` method). Again, this is just like a function, but then applied to itself. Often, numpy provides both a function and method for simple operations. \n",
    "\n",
    "Let's look at an example: "
   ]
  },
  {
   "cell_type": "code",
   "execution_count": 21,
   "metadata": {},
   "outputs": [
    {
     "name": "stdout",
     "output_type": "stream",
     "text": [
      "[0 1 2 3 4 5 6 7 8 9] \n",
      "\n",
      "The mean of the array is: 4.5\n",
      "The mean of the array (computed by its corresponding method) is: 4.5\n",
      "Is the results from the numpy function the same as the corresponding method? Answer: True\n"
     ]
    }
   ],
   "source": [
    "my_array = np.arange(10)  # creates a numpy array from 0 until (excluding!) 10\n",
    "print(my_array, '\\n')\n",
    "\n",
    "mean_array = np.mean(my_array)\n",
    "print(f'The mean of the array is: {mean_array}')\n",
    "\n",
    "mean_array2 = my_array.mean() \n",
    "print(f'The mean of the array (computed by its corresponding method) is: {mean_array2}')\n",
    "\n",
    "print('Is the results from the numpy function the same as '\n",
    "      f'the corresponding method? Answer: {str(mean_array == mean_array2)}')"
   ]
  },
  {
   "cell_type": "markdown",
   "metadata": {},
   "source": [
    "If there is both a function and a method for the operation we want to apply to the array, it really doesn't matter what we choose! Let's look at some more (often used) methods of numpy ndarrays:"
   ]
  },
  {
   "cell_type": "code",
   "execution_count": 22,
   "metadata": {},
   "outputs": [
    {
     "name": "stdout",
     "output_type": "stream",
     "text": [
      "Standard deviation of my_array: 2.581988897471611 \n",
      "\n",
      "Transpose of my_array:\n",
      "[[1 4 7]\n",
      " [2 5 8]\n",
      " [3 6 9]] \n",
      "\n",
      "Minimum of my_array: 1 \n",
      "\n",
      "Maximum of my_array: 9 \n",
      "\n",
      "Sum of my_array: 45 \n",
      "\n"
     ]
    }
   ],
   "source": [
    "my_array = np.array([[1, 2, 3],\n",
    "                     [4, 5, 6],\n",
    "                     [7, 8, 9]])\n",
    "\n",
    "std_my_array = my_array.std()  # same as np.std(array)\n",
    "print(f\"Standard deviation of my_array: {std_my_array}\", '\\n')\n",
    "\n",
    "transpose_my_array = my_array.T  # same as np.transpose(array)\n",
    "print(f\"Transpose of my_array:\\n{transpose_my_array}\", '\\n')\n",
    "\n",
    "min_my_array = my_array.min()  # same as np.min(array)\n",
    "print(f\"Minimum of my_array: {my_array.min()}\", '\\n')\n",
    "\n",
    "max_my_array = my_array.max()  # same as np.max(array)\n",
    "print(f\"Maximum of my_array: {max_my_array}\", '\\n')\n",
    "\n",
    "sum_my_array = my_array.sum()  # same as np.sum(array)\n",
    "print(f\"Sum of my_array: {sum_my_array}\", '\\n')"
   ]
  },
  {
   "cell_type": "markdown",
   "metadata": {},
   "source": [
    "Importantly, a method may or may not take arguments (input).\n",
    "If no arguments are given, it just looks like \"object.method()\", i.e. two enclosing brackets with nothing in between.\n",
    "However, a method may take one or more arguments (like the my_list.append(1) method)! \n",
    "This argument may be named or unnamed - doesn't matter. An example:"
   ]
  },
  {
   "cell_type": "code",
   "execution_count": 23,
   "metadata": {},
   "outputs": [
    {
     "name": "stdout",
     "output_type": "stream",
     "text": [
      "Original array:\n",
      "[[0.61269023 0.62004833 0.38894922]\n",
      " [0.07413478 0.95840186 0.13821907]\n",
      " [0.52261215 0.97264459 0.52818487]] \n",
      "\n",
      "Use the round() method with the argument 3:\n",
      "[[0.613 0.62  0.389]\n",
      " [0.074 0.958 0.138]\n",
      " [0.523 0.973 0.528]] \n",
      "\n",
      "Use the round() method with the named argument 5:\n",
      "[[0.61269 0.62005 0.38895]\n",
      " [0.07413 0.9584  0.13822]\n",
      " [0.52261 0.97264 0.52818]] \n",
      "\n"
     ]
    }
   ],
   "source": [
    "my_array2 = np.random.random((3, 3))\n",
    "print('Original array:')\n",
    "print(my_array2, '\\n')\n",
    "\n",
    "print('Use the round() method with the argument 3:')\n",
    "print(my_array2.round(3), '\\n')\n",
    "\n",
    "print('Use the round() method with the named argument 5:')\n",
    "print(my_array2.round(decimals=5), '\\n')"
   ]
  },
  {
   "cell_type": "markdown",
   "metadata": {},
   "source": [
    "In addition to the methods listed above, you'll probably see the following methods a lot in the code of others.\n",
    "\n",
    "Reshaping arrays:"
   ]
  },
  {
   "cell_type": "code",
   "execution_count": 24,
   "metadata": {},
   "outputs": [
    {
     "name": "stdout",
     "output_type": "stream",
     "text": [
      "[[0 1]\n",
      " [2 3]\n",
      " [4 5]\n",
      " [6 7]\n",
      " [8 9]]\n"
     ]
    }
   ],
   "source": [
    "my_array = np.arange(10)\n",
    "print(my_array.reshape((5, 2))) # reshape to desired shape"
   ]
  },
  {
   "cell_type": "markdown",
   "metadata": {},
   "source": [
    "Ravel (\"flatten\") an array:"
   ]
  },
  {
   "cell_type": "code",
   "execution_count": 25,
   "metadata": {},
   "outputs": [
    {
     "name": "stdout",
     "output_type": "stream",
     "text": [
      "Initial shape: (5, 2)\n",
      "[0 1 2 3 4 5 6 7 8 9]\n",
      "Shape after ravel(): (10,)\n"
     ]
    }
   ],
   "source": [
    "temporary = my_array.reshape((5, 2))\n",
    "print(\"Initial shape: %s\" % (temporary.shape,))\n",
    "print(temporary.ravel()) # unroll multi-dimensional array to single 1D array\n",
    "print(\"Shape after ravel(): %s\" % (temporary.ravel().shape,))"
   ]
  }
 ],
 "metadata": {
  "kernelspec": {
   "display_name": "Python 3",
   "language": "python",
   "name": "python3"
  },
  "language_info": {
   "codemirror_mode": {
    "name": "ipython",
    "version": 3
   },
   "file_extension": ".py",
   "mimetype": "text/x-python",
   "name": "python",
   "nbconvert_exporter": "python",
   "pygments_lexer": "ipython3",
   "version": "3.8.5"
  }
 },
 "nbformat": 4,
 "nbformat_minor": 2
}
