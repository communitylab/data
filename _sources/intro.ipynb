{
 "cells": [
  {
   "cell_type": "markdown",
   "metadata": {},
   "source": [
    "# Data Science with Python"
   ]
  },
  {
   "cell_type": "markdown",
   "metadata": {},
   "source": [
    "This website presents concepts covered as part of data science intensives for level 4 data fellowship apprenticeship. The aim is to provide an introduction to everything you need to know to start using Python for data science. \n",
    "\n",
    "For an overview of the data fellowship program, see [this page](https://multiverselearningproducts.github.io/dfv1/)\n",
    "\n",
    "## Programming with Python\n",
    "- Introduction to Python\n",
    "- Sequence, Loops and Methods\n",
    "- Dictionaries and Comprehensions\n",
    "- Exercise 01\n",
    "- Solutions for exercise 01\n",
    "- Functions and Exceptions\n",
    "\n",
    "## Data Wrangling with Python\n",
    "- Introduction to Numpy\n",
    "- Introduction to Pandas\n",
    "- Pandas Grouping and Pivoting\n",
    "- Merge and Concatenate DataFrames\n",
    "- Apply Functions and Plotting\n",
    "- Relational Databases and SQL\n",
    "- Data Visualization\n"
   ]
  }
 ],
 "metadata": {
  "kernelspec": {
   "display_name": "Python 3",
   "language": "python",
   "name": "python3"
  },
  "language_info": {
   "codemirror_mode": {
    "name": "ipython",
    "version": 3
   },
   "file_extension": ".py",
   "mimetype": "text/x-python",
   "name": "python",
   "nbconvert_exporter": "python",
   "pygments_lexer": "ipython3",
   "version": "3.8.5"
  }
 },
 "nbformat": 4,
 "nbformat_minor": 2
}
