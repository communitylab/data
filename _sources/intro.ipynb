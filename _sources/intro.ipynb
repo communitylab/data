{
 "cells": [
  {
   "cell_type": "markdown",
   "metadata": {},
   "source": [
    "# Data Science with Python"
   ]
  },
  {
   "cell_type": "markdown",
   "metadata": {},
   "source": [
    "This website presents concepts covered as part of data science intensives for level 4 data apprenticeship. The aim is to provide an introduction to everything you need to know to start using Python for data science. For an overview of the data fellowship program, see [this page](https://multiverselearningproducts.github.io/dfv1/)\n",
    "\n",
    "## Programming with Python\n",
    "- [Introduction to Python](https://communitylab.github.io/data/Chapters/01/intro_python.html)\n",
    "- [Sequence, Loops and Methods](https://communitylab.github.io/data/Chapters/02/Sequence%2C%20Loops%20and%20Methods.html)\n",
    "- [Dictionaries and Comprehensions](https://communitylab.github.io/data/Chapters/03/Dictionaries%20and%20Comprehensions.html)\n",
    "- [Exercise 01](https://communitylab.github.io/data/Chapters/02/Exercise%2001.html)\n",
    "- [Solutions for exercise 01](https://communitylab.github.io/data/Chapters/02/Solutions%2001.html)\n",
    "- [Functions and Exceptions](https://communitylab.github.io/data/Chapters/03/Functions%20and%20Exceptions.html)\n",
    "\n",
    "## Data Wrangling with Python\n",
    "- [Introduction to Numpy](https://communitylab.github.io/data/Chapters/04/NumPy.html)\n",
    "- [Introduction to Pandas](https://communitylab.github.io/data/Chapters/04/Pandas%20Intro.html)\n",
    "- [Pandas Grouping and Pivoting](https://communitylab.github.io/data/Chapters/04/Pandas%20grouping%20and%20pivoting.html)\n",
    "- [Merge and Concatenate DataFrames](https://communitylab.github.io/data/Chapters/04/Merge%20and%20Concat%20Dataset.html)\n",
    "- [Apply Functions and Plotting](https://communitylab.github.io/data/Chapters/04/Pandas%20apply%20strings%20and%20plotting.html)\n",
    "- [Relational Databases and SQL](https://communitylab.github.io/data/Chapters/05/sql%20intro.html)\n",
    "- [Data Visualization](https://communitylab.github.io/data/Chapters/06/viz%20intro.html)\n"
   ]
  },
  {
   "cell_type": "markdown",
   "metadata": {},
   "source": [
    "### Acknowledgements\n",
    "This website is built using the [QuantEcon book theme](https://github.com/QuantEcon/quantecon-book-theme) for its base structure and configuration"
   ]
  }
 ],
 "metadata": {
  "kernelspec": {
   "display_name": "Python 3",
   "language": "python",
   "name": "python3"
  },
  "language_info": {
   "codemirror_mode": {
    "name": "ipython",
    "version": 3
   },
   "file_extension": ".py",
   "mimetype": "text/x-python",
   "name": "python",
   "nbconvert_exporter": "python",
   "pygments_lexer": "ipython3",
   "version": "3.8.5"
  }
 },
 "nbformat": 4,
 "nbformat_minor": 2
}
