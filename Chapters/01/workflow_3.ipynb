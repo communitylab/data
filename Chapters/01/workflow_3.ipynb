{
 "cells": [
  {
   "cell_type": "markdown",
   "metadata": {},
   "source": [
    "# Visualizing Branching Programs\n",
    "<hr style=\"height:1px;border:none;color:#666;background-color:#666;\" />"
   ]
  },
  {
   "cell_type": "markdown",
   "metadata": {},
   "source": [
    "In the preceding section we saw how conditional statements (`if..elif...else statements`) help us control the flow of our code. We can have as many conditional statements as we like, but only the condition that evaluates as True will get executed. We can see how the computer performs the execution of code in the visulization below. You can click on next to see the changes that take place inside the machine's memory while executing the code. "
   ]
  },
  {
   "cell_type": "code",
   "execution_count": 1,
   "metadata": {
    "collapsed": true,
    "jupyter": {
     "outputs_hidden": true
    },
    "tags": [
     "remove-cell"
    ]
   },
   "outputs": [
    {
     "name": "stdout",
     "output_type": "stream",
     "text": [
      "Requirement already satisfied: metakernel in /Applications/anaconda3/lib/python3.8/site-packages (0.27.5)\n",
      "Requirement already satisfied: pexpect>=4.2 in /Applications/anaconda3/lib/python3.8/site-packages (from metakernel) (4.8.0)\n",
      "Requirement already satisfied: ipykernel in /Applications/anaconda3/lib/python3.8/site-packages (from metakernel) (5.3.4)\n",
      "Requirement already satisfied: ptyprocess>=0.5 in /Applications/anaconda3/lib/python3.8/site-packages (from pexpect>=4.2->metakernel) (0.6.0)\n",
      "Requirement already satisfied: jupyter-client in /Applications/anaconda3/lib/python3.8/site-packages (from ipykernel->metakernel) (6.1.7)\n",
      "Requirement already satisfied: traitlets>=4.1.0 in /Applications/anaconda3/lib/python3.8/site-packages (from ipykernel->metakernel) (4.3.3)\n",
      "Requirement already satisfied: ipython>=5.0.0 in /Applications/anaconda3/lib/python3.8/site-packages (from ipykernel->metakernel) (7.19.0)\n",
      "Requirement already satisfied: tornado>=4.2 in /Applications/anaconda3/lib/python3.8/site-packages (from ipykernel->metakernel) (6.0.4)\n",
      "Requirement already satisfied: appnope; platform_system == \"Darwin\" in /Applications/anaconda3/lib/python3.8/site-packages (from ipykernel->metakernel) (0.1.0)\n",
      "Requirement already satisfied: jupyter-core>=4.6.0 in /Applications/anaconda3/lib/python3.8/site-packages (from jupyter-client->ipykernel->metakernel) (4.6.3)\n",
      "Requirement already satisfied: pyzmq>=13 in /Applications/anaconda3/lib/python3.8/site-packages (from jupyter-client->ipykernel->metakernel) (19.0.2)\n",
      "Requirement already satisfied: python-dateutil>=2.1 in /Applications/anaconda3/lib/python3.8/site-packages (from jupyter-client->ipykernel->metakernel) (2.8.1)\n",
      "Requirement already satisfied: decorator in /Applications/anaconda3/lib/python3.8/site-packages (from traitlets>=4.1.0->ipykernel->metakernel) (4.4.2)\n",
      "Requirement already satisfied: ipython-genutils in /Applications/anaconda3/lib/python3.8/site-packages (from traitlets>=4.1.0->ipykernel->metakernel) (0.2.0)\n",
      "Requirement already satisfied: six in /Applications/anaconda3/lib/python3.8/site-packages (from traitlets>=4.1.0->ipykernel->metakernel) (1.15.0)\n",
      "Requirement already satisfied: jedi>=0.10 in /Applications/anaconda3/lib/python3.8/site-packages (from ipython>=5.0.0->ipykernel->metakernel) (0.17.1)\n",
      "Requirement already satisfied: pygments in /Applications/anaconda3/lib/python3.8/site-packages (from ipython>=5.0.0->ipykernel->metakernel) (2.7.2)\n",
      "Requirement already satisfied: prompt-toolkit!=3.0.0,!=3.0.1,<3.1.0,>=2.0.0 in /Applications/anaconda3/lib/python3.8/site-packages (from ipython>=5.0.0->ipykernel->metakernel) (3.0.8)\n",
      "Requirement already satisfied: backcall in /Applications/anaconda3/lib/python3.8/site-packages (from ipython>=5.0.0->ipykernel->metakernel) (0.2.0)\n",
      "Requirement already satisfied: setuptools>=18.5 in /Applications/anaconda3/lib/python3.8/site-packages (from ipython>=5.0.0->ipykernel->metakernel) (50.3.1.post20201107)\n",
      "Requirement already satisfied: pickleshare in /Applications/anaconda3/lib/python3.8/site-packages (from ipython>=5.0.0->ipykernel->metakernel) (0.7.5)\n",
      "Requirement already satisfied: parso<0.8.0,>=0.7.0 in /Applications/anaconda3/lib/python3.8/site-packages (from jedi>=0.10->ipython>=5.0.0->ipykernel->metakernel) (0.7.0)\n",
      "Requirement already satisfied: wcwidth in /Applications/anaconda3/lib/python3.8/site-packages (from prompt-toolkit!=3.0.0,!=3.0.1,<3.1.0,>=2.0.0->ipython>=5.0.0->ipykernel->metakernel) (0.2.5)\n"
     ]
    }
   ],
   "source": [
    "!pip install metakernel\n",
    "from metakernel import register_ipython_magics\n",
    "register_ipython_magics()"
   ]
  },
  {
   "cell_type": "code",
   "execution_count": 4,
   "metadata": {
    "tags": [
     "remove-input"
    ]
   },
   "outputs": [
    {
     "data": {
      "text/html": [
       "\n",
       "        <iframe\n",
       "            width=\"100%\"\n",
       "            height=\"500\"\n",
       "            src=\"https://pythontutor.com/iframe-embed.html#code=x%2C%20y%2C%20z%20%3D%2010%2C%2042%2C%2084%0A%0Ax%20%3D%20y%20if%20y%20%3E%20z%20else%20z%0A%0Aif%20x%25y%20%3D%3D%200%3A%0A%20%20%20%20if%20x%20%3D%3D%20y%3A%0A%20%20%20%20%20%20%20%20print%28%27x%20is%20same%20as%20y%27%29%0A%20%20%20%20else%3A%0A%20%20%20%20%20%20%20%20print%28%27x%20is%20divisible%20by%20y%27%29%0Aelse%3A%0A%20%20%20%20print%28%27x%20is%20not%20divisible%20by%20y%27%29%0Aprint%28float%28x%29%29%0Ax%20%3D%20float%28x%29%0Aprint%28%27Done%20with%20code%27%29%0A&origin=opt-frontend.js&cumulative=false&heapPrimitives=false&textReferences=false&py=3&rawInputLstJSON=%5B%5D&curInstr=0&codeDivWidth=350&codeDivHeight=400\"\n",
       "            frameborder=\"0\"\n",
       "            allowfullscreen\n",
       "        ></iframe>\n",
       "        "
      ],
      "text/plain": [
       "<IPython.lib.display.IFrame at 0x7ffc29314c40>"
      ]
     },
     "metadata": {},
     "output_type": "display_data"
    }
   ],
   "source": [
    "%%tutor\n",
    "x, y, z = 10, 42, 84\n",
    "\n",
    "x = y if y > z else z\n",
    "\n",
    "if x%y == 0:\n",
    "    if x == y:\n",
    "        print('x is same as y')\n",
    "    else:\n",
    "        print('x is divisible by y')\n",
    "else:\n",
    "    print('x is not divisible by y')\n",
    "print(float(x))\n",
    "x = float(x)\n",
    "print('Done with code')"
   ]
  },
  {
   "cell_type": "markdown",
   "metadata": {},
   "source": [
    "```{note} \n",
    "We haven't spoken about frames in Python, but we will encounter them when we talk about functions, we will use this visualization in future as we encounter more sophisticated programming concepts and objects in later chapters.\n",
    "```"
   ]
  },
  {
   "cell_type": "markdown",
   "metadata": {},
   "source": [
    "We can see that even though there are 12 lines of code the computer performs the execution of code in 8 steps. In the first step it assigns the values to the variables we specified, and then changes the value of $x$ based on the condition we specified in the second line of code. We can see how the computer jumps straight to the else code block when it encounters that the `if` condition is found to be false. It then prints the output and comes out of the entire `if...else` code block and moves on to line 12.\n",
    "\n",
    "Another point to note is that when the code at `print(float(x))` is executed, it changes the value of $x$ to a floating point number and prints its output, but there is no change in the actual value of variable $x$ in computer's memory. The only time the actual value of the variable changes is when we specify them explicity (which we do in code line 13).\n",
    "\n",
    "Conditionals allow us to write programs that are more interesting than straight-line programs, but this class of branching programs is still quite limited. There is very little we can do with conditions and numeric data type, in order to construct more complex programs we will look at `sequence type` objects. They open up the option to construct another important programming language concept, **iteration**.\n",
    "\n"
   ]
  },
  {
   "cell_type": "markdown",
   "metadata": {},
   "source": [
    "```{raw} html\n",
    "<script\n",
    "   type=\"text/javascript\"\n",
    "   src=\"https://utteranc.es/client.js\"\n",
    "   async=\"async\"\n",
    "   repo=\"MultiverseDF/book\"\n",
    "   issue-term=\"pathname\"\n",
    "   theme=\"github-light\"\n",
    "   label=\"💬 comment\"\n",
    "   crossorigin=\"anonymous\"\n",
    "/>\n",
    "```"
   ]
  }
 ],
 "metadata": {
  "celltoolbar": "Tags",
  "kernelspec": {
   "display_name": "Python 3",
   "language": "python",
   "name": "python3"
  },
  "language_info": {
   "codemirror_mode": {
    "name": "ipython",
    "version": 3
   },
   "file_extension": ".py",
   "mimetype": "text/x-python",
   "name": "python",
   "nbconvert_exporter": "python",
   "pygments_lexer": "ipython3",
   "version": "3.8.5"
  }
 },
 "nbformat": 4,
 "nbformat_minor": 4
}
