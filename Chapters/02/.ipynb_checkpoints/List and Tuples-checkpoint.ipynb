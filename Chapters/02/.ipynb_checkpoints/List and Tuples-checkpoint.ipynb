{
 "cells": [
  {
   "cell_type": "markdown",
   "metadata": {},
   "source": [
    "# List and Tuples\n",
    "<hr style=\"height:1px;border:none;color:#666;background-color:#666;\" />\n",
    "\n",
    "## Why should we use lists?\n",
    "\n",
    "Sometimes we may end up doing something like this."
   ]
  },
  {
   "cell_type": "code",
   "execution_count": 5,
   "metadata": {},
   "outputs": [
    {
     "name": "stdout",
     "output_type": "stream",
     "text": [
      "What animal is your pet: cat\n",
      "I know you!\n"
     ]
    }
   ],
   "source": [
    "pet1 = 'cat'\n",
    "pet2 = 'dog'\n",
    "pet3 = 'goldfish'\n",
    "pet4 = 'gerbil'\n",
    "pet5 = 'hamster'\n",
    "\n",
    "name = input(\"What animal is your pet: \")\n",
    "if name == pet1 or name == pet2 or name == pet3 or name == pet4 or name == pet5:\n",
    "    print(\"I know you!\")\n",
    "else:\n",
    "    print(\"Sorry, I don't know this animal :(\")"
   ]
  },
  {
   "cell_type": "markdown",
   "metadata": {},
   "source": [
    "```{admonition} note\n",
    "In the above code we see the function [input()](https://www.w3schools.com/python/ref_func_input.asp), which allows us to get input from the user. By default everything we enter is going to be considered as a string. \n",
    "\n",
    "```\n",
    "\n",
    "This code works just fine, but there's a problem. The name check\n",
    "is repetitive, and adding a new name requires adding even more\n",
    "repetitive, boring checks.\n",
    "\n",
    "## Our first list\n",
    "\n",
    "Instead of adding a new variable for each name it might be\n",
    "better to store all names in one variable. This means that our\n",
    "one variable needs to point to multiple values. An easy way to\n",
    "do this is using a list, we create them by putting all our pets inside `square brackets`.\n"
   ]
  },
  {
   "cell_type": "code",
   "execution_count": 20,
   "metadata": {},
   "outputs": [],
   "source": [
    "pets = ['cat', 'dog', 'goldfish', 'gerbil', 'hamster']"
   ]
  },
  {
   "cell_type": "markdown",
   "metadata": {},
   "source": [
    "Here the `pets` variable points to a list, which then points to\n",
    "strings, like this:\n",
    "\n",
    "```{figure} lists.png\n",
    "---\n",
    "width: 70%\n",
    "name: Lists\n",
    "alt: List of pets.\n",
    "---\n",
    "List of pets\n",
    "```\n",
    "\n",
    "## What can we do with lists?"
   ]
  },
  {
   "cell_type": "markdown",
   "metadata": {},
   "source": [
    "In the previous section we saw that there are many things we can do with strings,\n",
    "and some of these things also work with lists."
   ]
  },
  {
   "cell_type": "code",
   "execution_count": 4,
   "metadata": {},
   "outputs": [
    {
     "data": {
      "text/plain": [
       "5"
      ]
     },
     "execution_count": 4,
     "metadata": {},
     "output_type": "execute_result"
    }
   ],
   "source": [
    "len(pets)"
   ]
  },
  {
   "cell_type": "code",
   "execution_count": 10,
   "metadata": {},
   "outputs": [
    {
     "data": {
      "text/plain": [
       "['cat', 'dog', 'goldfish', 'gerbil', 'hamster', 'fox']"
      ]
     },
     "execution_count": 10,
     "metadata": {},
     "output_type": "execute_result"
    }
   ],
   "source": [
    "# This creates a new list with 'fox' inside it\n",
    "pets + ['fox']"
   ]
  },
  {
   "cell_type": "code",
   "execution_count": 11,
   "metadata": {},
   "outputs": [
    {
     "data": {
      "text/plain": [
       "['cat', 'dog', 'goldfish', 'gerbil', 'hamster']"
      ]
     },
     "execution_count": 11,
     "metadata": {},
     "output_type": "execute_result"
    }
   ],
   "source": [
    "# When we check the original pets list there is no value called 'fox'\n",
    "pets"
   ]
  },
  {
   "cell_type": "markdown",
   "metadata": {},
   "source": [
    "With strings indexing and slicing both returned a string, but\n",
    "with lists we get a new list when we're slicing and an element\n",
    "from the list if we're indexing."
   ]
  },
  {
   "cell_type": "code",
   "execution_count": 12,
   "metadata": {},
   "outputs": [
    {
     "data": {
      "text/plain": [
       "['cat', 'dog']"
      ]
     },
     "execution_count": 12,
     "metadata": {},
     "output_type": "execute_result"
    }
   ],
   "source": [
    "pets[:2]  # first two pets"
   ]
  },
  {
   "cell_type": "code",
   "execution_count": 14,
   "metadata": {},
   "outputs": [
    {
     "data": {
      "text/plain": [
       "'cat'"
      ]
     },
     "execution_count": 14,
     "metadata": {},
     "output_type": "execute_result"
    }
   ],
   "source": [
    "pets[0] # the first pet"
   ]
  },
  {
   "cell_type": "markdown",
   "metadata": {},
   "source": [
    "If we want to check if the program knows a name all we need to\n",
    "do is to use the `in` keyword."
   ]
  },
  {
   "cell_type": "code",
   "execution_count": 15,
   "metadata": {},
   "outputs": [
    {
     "data": {
      "text/plain": [
       "False"
      ]
     },
     "execution_count": 15,
     "metadata": {},
     "output_type": "execute_result"
    }
   ],
   "source": [
    "'lion' in pets"
   ]
  },
  {
   "cell_type": "code",
   "execution_count": 16,
   "metadata": {},
   "outputs": [
    {
     "data": {
      "text/plain": [
       "True"
      ]
     },
     "execution_count": 16,
     "metadata": {},
     "output_type": "execute_result"
    }
   ],
   "source": [
    "'gerbil' in pets"
   ]
  },
  {
   "cell_type": "markdown",
   "metadata": {},
   "source": [
    "```{note}\n",
    "We can't use this for checking if a list of names is a part of\n",
    "our name list.\n",
    "```Python\n",
    ">>> ['cat', 'dog'] in pets\n",
    "False\n",
    ">>> ['goldfish'] in pets\n",
    "False\n",
    "```"
   ]
  },
  {
   "cell_type": "markdown",
   "metadata": {},
   "source": [
    "Lists have a few [useful\n",
    "methods](https://docs.python.org/3/tutorial/datastructures.html#more-on-lists).\n",
    "Some of the most commonly used ones are append, extend and remove.\n",
    "`append` adds an item to the end of a list, `extend` adds\n",
    "multiple items from another list and `remove` removes an item."
   ]
  },
  {
   "cell_type": "code",
   "execution_count": 21,
   "metadata": {},
   "outputs": [
    {
     "data": {
      "text/plain": [
       "['cat', 'dog', 'goldfish', 'hamster']"
      ]
     },
     "execution_count": 21,
     "metadata": {},
     "output_type": "execute_result"
    }
   ],
   "source": [
    "pets.remove('gerbil') # sorry gerbil\n",
    "pets"
   ]
  },
  {
   "cell_type": "code",
   "execution_count": 22,
   "metadata": {},
   "outputs": [
    {
     "data": {
      "text/plain": [
       "['cat', 'dog', 'goldfish', 'hamster', 'horse']"
      ]
     },
     "execution_count": 22,
     "metadata": {},
     "output_type": "execute_result"
    }
   ],
   "source": [
    "pets.append('horse')\n",
    "pets"
   ]
  },
  {
   "cell_type": "code",
   "execution_count": 23,
   "metadata": {},
   "outputs": [
    {
     "data": {
      "text/plain": [
       "['cat', 'dog', 'goldfish', 'hamster', 'horse', 'dog', 'fox']"
      ]
     },
     "execution_count": 23,
     "metadata": {},
     "output_type": "execute_result"
    }
   ],
   "source": [
    "pets.extend(['dog', 'fox'])\n",
    "pets"
   ]
  },
  {
   "cell_type": "markdown",
   "metadata": {},
   "source": [
    "````{important}\n",
    "remove() only removes the first match it finds\n",
    "``` Python\n",
    ">>> pets.remove('dog')\n",
    ">>> pets\n",
    "['cat', 'goldfish', 'hamster', 'horse', 'dog', 'fox']\n",
    "\n",
    "```\n",
    "If we need to remove all matching items then we will need to use loops, we will learn about loops in the next section.\n",
    "````"
   ]
  },
  {
   "cell_type": "markdown",
   "metadata": {},
   "source": [
    "Similar to strings we can use slicing and indexing to change the content of the list."
   ]
  },
  {
   "cell_type": "code",
   "execution_count": 24,
   "metadata": {},
   "outputs": [
    {
     "data": {
      "text/plain": [
       "'dog'"
      ]
     },
     "execution_count": 24,
     "metadata": {},
     "output_type": "execute_result"
    }
   ],
   "source": [
    "pets[1]"
   ]
  },
  {
   "cell_type": "code",
   "execution_count": 25,
   "metadata": {},
   "outputs": [
    {
     "data": {
      "text/plain": [
       "['cat', 'puppy', 'goldfish', 'hamster', 'horse', 'dog', 'fox']"
      ]
     },
     "execution_count": 25,
     "metadata": {},
     "output_type": "execute_result"
    }
   ],
   "source": [
    "pets[1] = 'puppy'\n",
    "pets"
   ]
  },
  {
   "cell_type": "markdown",
   "metadata": {},
   "source": [
    "As we can see, **list can be changed in-place**. In other\n",
    "words, they are [**mutable**](https://medium.com/@meghamohan/mutable-and-immutable-side-of-python-c2145cf72747). Integers, floats, strings and many\n",
    "other built-in types can't, so they are **immutable**.\n",
    "\n",
    "With string we did something to them\n",
    "and then set the result back to the same variable, like\n",
    "`name = name.replace('i', 'u')`. This just doesn't work right with\n",
    "most mutable types because they're designed to be changed in-place."
   ]
  },
  {
   "cell_type": "code",
   "execution_count": 26,
   "metadata": {},
   "outputs": [
    {
     "ename": "TypeError",
     "evalue": "'str' object does not support item assignment",
     "output_type": "error",
     "traceback": [
      "\u001b[0;31m---------------------------------------------------------------------------\u001b[0m",
      "\u001b[0;31mTypeError\u001b[0m                                 Traceback (most recent call last)",
      "\u001b[0;32m<ipython-input-26-2c4638f48c3b>\u001b[0m in \u001b[0;36m<module>\u001b[0;34m\u001b[0m\n\u001b[1;32m      1\u001b[0m \u001b[0mname\u001b[0m \u001b[0;34m=\u001b[0m \u001b[0;34m'Bill'\u001b[0m\u001b[0;34m\u001b[0m\u001b[0;34m\u001b[0m\u001b[0m\n\u001b[0;32m----> 2\u001b[0;31m \u001b[0mname\u001b[0m\u001b[0;34m[\u001b[0m\u001b[0;36m1\u001b[0m\u001b[0;34m]\u001b[0m \u001b[0;34m=\u001b[0m \u001b[0;34m'u'\u001b[0m\u001b[0;34m\u001b[0m\u001b[0;34m\u001b[0m\u001b[0m\n\u001b[0m\u001b[1;32m      3\u001b[0m \u001b[0mname\u001b[0m\u001b[0;34m\u001b[0m\u001b[0;34m\u001b[0m\u001b[0m\n",
      "\u001b[0;31mTypeError\u001b[0m: 'str' object does not support item assignment"
     ]
    }
   ],
   "source": [
    "# strings are immutable and their value cant be changed\n",
    "name = 'Bill'\n",
    "name[1] = 'u'\n",
    "name"
   ]
  },
  {
   "cell_type": "markdown",
   "metadata": {},
   "source": [
    "## Tuples\n",
    "\n",
    "Tuples are a lot like lists, but they're immutable so they\n",
    "can't be changed in-place. We create them like lists, but\n",
    "with `()` instead of `[]`.\n",
    "\n",
    "``` Python\n",
    ">>> thing = (1, 2, 3)\n",
    ">>> thing\n",
    "(1, 2, 3)\n",
    ">>> thing = ()\n",
    ">>> thing\n",
    "()\n",
    "```\n",
    "\n",
    "If we need to create a tuple that contains only one item we\n",
    "need to use `(item,)` instead of `(item)` because `(item)` is\n",
    "used in places like `(1 + 2) * 3`."
   ]
  },
  {
   "cell_type": "code",
   "execution_count": 32,
   "metadata": {},
   "outputs": [
    {
     "name": "stdout",
     "output_type": "stream",
     "text": [
      "3\n"
     ]
    },
    {
     "data": {
      "text/plain": [
       "int"
      ]
     },
     "execution_count": 32,
     "metadata": {},
     "output_type": "execute_result"
    }
   ],
   "source": [
    "num = (3) # python reads this as a number\n",
    "print(num)\n",
    "type(num)"
   ]
  },
  {
   "cell_type": "code",
   "execution_count": 33,
   "metadata": {},
   "outputs": [
    {
     "name": "stdout",
     "output_type": "stream",
     "text": [
      "(3,)\n"
     ]
    },
    {
     "data": {
      "text/plain": [
       "tuple"
      ]
     },
     "execution_count": 33,
     "metadata": {},
     "output_type": "execute_result"
    }
   ],
   "source": [
    "num = (3,) # this gives us a tuple\n",
    "print(num)\n",
    "type(num)"
   ]
  },
  {
   "cell_type": "code",
   "execution_count": 34,
   "metadata": {},
   "outputs": [
    {
     "data": {
      "text/plain": [
       "9"
      ]
     },
     "execution_count": 34,
     "metadata": {},
     "output_type": "execute_result"
    }
   ],
   "source": [
    "(1 + 2) * 3"
   ]
  },
  {
   "cell_type": "code",
   "execution_count": 36,
   "metadata": {},
   "outputs": [
    {
     "data": {
      "text/plain": [
       "(3, 3, 3)"
      ]
     },
     "execution_count": 36,
     "metadata": {},
     "output_type": "execute_result"
    }
   ],
   "source": [
    "'''\n",
    "In the following case it adds 1+2 to give us a tuple (3,) which is then multiplied by 3 \n",
    "'''\n",
    "(1 + 2,) * 3"
   ]
  },
  {
   "cell_type": "markdown",
   "metadata": {},
   "source": [
    "It's also possible to create tuples by just separating things with\n",
    "commas and adding no parentheses. Personally I don't like this feature,\n",
    "but some people like to do it this way."
   ]
  },
  {
   "cell_type": "code",
   "execution_count": 37,
   "metadata": {},
   "outputs": [
    {
     "data": {
      "text/plain": [
       "(1, 2, 3)"
      ]
     },
     "execution_count": 37,
     "metadata": {},
     "output_type": "execute_result"
    }
   ],
   "source": [
    "1, 2, 3"
   ]
  },
  {
   "cell_type": "code",
   "execution_count": 38,
   "metadata": {},
   "outputs": [
    {
     "data": {
      "text/plain": [
       "('hello', 'world')"
      ]
     },
     "execution_count": 38,
     "metadata": {},
     "output_type": "execute_result"
    }
   ],
   "source": [
    "'hello', 'world'"
   ]
  },
  {
   "cell_type": "markdown",
   "metadata": {},
   "source": [
    "Tuples don't have methods like append, extend and remove\n",
    "because they can't change themselves in-place.\n",
    "\n",
    "## Examples\n",
    "\n",
    "Here's the same program we had in the beginning of this tutorial, but\n",
    "using a list:"
   ]
  },
  {
   "cell_type": "code",
   "execution_count": 1,
   "metadata": {},
   "outputs": [
    {
     "name": "stdout",
     "output_type": "stream",
     "text": [
      "What animal is your pet: dog\n",
      "I know you!\n"
     ]
    }
   ],
   "source": [
    "pets = ['cat', 'dog', 'goldfish', 'gerbil', 'hamster']\n",
    "\n",
    "name = input(\"What animal is your pet: \")\n",
    "if name in pets:\n",
    "    print(\"I know you!\")\n",
    "else:\n",
    "    print(\"Sorry, I don't know this animal :(\")"
   ]
  }
 ],
 "metadata": {
  "kernelspec": {
   "display_name": "Python 3",
   "language": "python",
   "name": "python3"
  },
  "language_info": {
   "codemirror_mode": {
    "name": "ipython",
    "version": 3
   },
   "file_extension": ".py",
   "mimetype": "text/x-python",
   "name": "python",
   "nbconvert_exporter": "python",
   "pygments_lexer": "ipython3",
   "version": "3.8.5"
  }
 },
 "nbformat": 4,
 "nbformat_minor": 2
}
