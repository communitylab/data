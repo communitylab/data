{
 "cells": [
  {
   "cell_type": "markdown",
   "metadata": {},
   "source": [
    "# Sequence, Loops and Methods\n",
    "<hr style=\"height:0.6px;border:none;color:#666;background-color:#666;\" />"
   ]
  },
  {
   "cell_type": "markdown",
   "metadata": {},
   "source": [
    "In this section we will look at another type of data called *Sequence Type*, which is a collection of data values. `str`, `list` and `tuple` are examples of sequence types. They are specific kind of [iterable](https://www.pythonlikeyoumeanit.com/Module2_EssentialsOfPython/Iterables.html)- an object that can be \"iterated over\" using loops, allowing us to ask the type to give each of its items in turn. \n",
    "\n",
    "\n",
    "## In this section we will:\n",
    "- Learn about basic string operations and methods\n",
    "- explain the difference between mutable objects like a list and immutable objects like tuple\n",
    "- write for and while loops"
   ]
  },
  {
   "cell_type": "markdown",
   "metadata": {},
   "source": [
    "## String Methods"
   ]
  },
  {
   "cell_type": "markdown",
   "metadata": {},
   "source": [
    "Python strings are just pieces of text. So far we looked at how to concatenate (add) them together.\n",
    "\n"
   ]
  },
  {
   "cell_type": "code",
   "execution_count": 3,
   "metadata": {},
   "outputs": [
    {
     "data": {
      "text/plain": [
       "'My computer says Hello World!'"
      ]
     },
     "execution_count": 3,
     "metadata": {},
     "output_type": "execute_result"
    }
   ],
   "source": [
    "greeting = 'Hello World!'\n",
    "'My computer says ' + greeting"
   ]
  },
  {
   "cell_type": "markdown",
   "metadata": {},
   "source": [
    "We can even repeat the strings several times by using `*` operator"
   ]
  },
  {
   "cell_type": "code",
   "execution_count": 4,
   "metadata": {},
   "outputs": [
    {
     "data": {
      "text/plain": [
       "'Hello World!Hello World!Hello World!'"
      ]
     },
     "execution_count": 4,
     "metadata": {},
     "output_type": "execute_result"
    }
   ],
   "source": [
    "greeting * 3"
   ]
  },
  {
   "cell_type": "markdown",
   "metadata": {},
   "source": [
    "Python strings are [immutable](https://docs.python.org/3/glossary.html#term-immutable).\n",
    "That's just a fancy way to say that\n",
    "they cannot be changed in-place, and we need to create a new string to\n",
    "change them. Even `some_string += another_string` creates a new string.\n",
    "Python will treat that as `some_string = some_string + another_string`,\n",
    "so it creates a new string but it puts it back to the same variable.\n",
    "\n",
    "`+` and `*` are nice, but what else can we do with strings?\n",
    "\n",
    "### Slicing\n",
    "\n",
    "Slicing is really simple. It just means getting a part of the string.\n",
    "For example, to get all characters between the second place between the\n",
    "characters and the fifth place between the characters, we can do this:"
   ]
  },
  {
   "cell_type": "code",
   "execution_count": 6,
   "metadata": {},
   "outputs": [
    {
     "data": {
      "text/plain": [
       "'Hell'"
      ]
     },
     "execution_count": 6,
     "metadata": {},
     "output_type": "execute_result"
    }
   ],
   "source": [
    "greeting[0:4]"
   ]
  },
  {
   "cell_type": "markdown",
   "metadata": {},
   "source": [
    "So the syntax is like `some_string[start:end]`.\n",
    "\n",
    "This picture explains how the slicing works:\n",
    "\n",
    "```{figure} slicing1.png\n",
    "---\n",
    "width: 60%\n",
    "name: Slicing\n",
    "alt: Slicing with non-negative values.\n",
    "---\n",
    "Slicing strings\n",
    "```\n",
    "\n",
    "But what happens if we slice with negative values?"
   ]
  },
  {
   "cell_type": "code",
   "execution_count": 8,
   "metadata": {},
   "outputs": [
    {
     "data": {
      "text/plain": [
       "'Wor'"
      ]
     },
     "execution_count": 8,
     "metadata": {},
     "output_type": "execute_result"
    }
   ],
   "source": [
    "greeting[-6:-3]"
   ]
  },
  {
   "cell_type": "markdown",
   "metadata": {},
   "source": [
    "It turns out we can slice strings using negative values by simply starts counting\n",
    "from the end of the string.\n",
    "\n",
    "```{figure} slicing2.png\n",
    "---\n",
    "width: 60%\n",
    "name: Slicing Strings\n",
    "alt: Slicing with negative values.\n",
    "---\n",
    "Slicing strings using negative values\n",
    "```\n",
    "\n",
    "If we don't specify the beginning it defaults to 0, and if we don't\n",
    "specify the end it defaults to the length of the string. For example, we\n",
    "can get everything except the first or last character like this:"
   ]
  },
  {
   "cell_type": "code",
   "execution_count": 9,
   "metadata": {},
   "outputs": [
    {
     "data": {
      "text/plain": [
       "'ello World!'"
      ]
     },
     "execution_count": 9,
     "metadata": {},
     "output_type": "execute_result"
    }
   ],
   "source": [
    "greeting[1:]"
   ]
  },
  {
   "cell_type": "code",
   "execution_count": 10,
   "metadata": {},
   "outputs": [
    {
     "data": {
      "text/plain": [
       "'Hello World'"
      ]
     },
     "execution_count": 10,
     "metadata": {},
     "output_type": "execute_result"
    }
   ],
   "source": [
    "greeting[:-1]"
   ]
  },
  {
   "cell_type": "markdown",
   "metadata": {},
   "source": [
    "As mentioned cannot be changed in-place, so if we write something like..."
   ]
  },
  {
   "cell_type": "code",
   "execution_count": 13,
   "metadata": {},
   "outputs": [
    {
     "ename": "TypeError",
     "evalue": "'str' object does not support item assignment",
     "output_type": "error",
     "traceback": [
      "\u001b[0;31m---------------------------------------------------------------------------\u001b[0m",
      "\u001b[0;31mTypeError\u001b[0m                                 Traceback (most recent call last)",
      "\u001b[0;32m<ipython-input-13-b99a669908bb>\u001b[0m in \u001b[0;36m<module>\u001b[0;34m\u001b[0m\n\u001b[0;32m----> 1\u001b[0;31m \u001b[0mgreeting\u001b[0m\u001b[0;34m[\u001b[0m\u001b[0;34m:\u001b[0m\u001b[0;36m5\u001b[0m\u001b[0;34m]\u001b[0m \u001b[0;34m=\u001b[0m \u001b[0;34m'Hiyaa'\u001b[0m\u001b[0;34m\u001b[0m\u001b[0;34m\u001b[0m\u001b[0m\n\u001b[0m",
      "\u001b[0;31mTypeError\u001b[0m: 'str' object does not support item assignment"
     ]
    }
   ],
   "source": [
    "greeting[:5] = 'Hiyaa'"
   ]
  },
  {
   "cell_type": "markdown",
   "metadata": {},
   "source": [
    "we get an error message"
   ]
  },
  {
   "cell_type": "code",
   "execution_count": 15,
   "metadata": {},
   "outputs": [
    {
     "data": {
      "text/plain": [
       "'Hello'"
      ]
     },
     "execution_count": 15,
     "metadata": {},
     "output_type": "execute_result"
    }
   ],
   "source": [
    "greeting[0:5]"
   ]
  },
  {
   "cell_type": "markdown",
   "metadata": {},
   "source": [
    "### Indexing"
   ]
  },
  {
   "cell_type": "markdown",
   "metadata": {},
   "source": [
    "So now we know how slicing works. But what happens if we forget the `:`?"
   ]
  },
  {
   "cell_type": "code",
   "execution_count": 16,
   "metadata": {},
   "outputs": [
    {
     "data": {
      "text/plain": [
       "'e'"
      ]
     },
     "execution_count": 16,
     "metadata": {},
     "output_type": "execute_result"
    }
   ],
   "source": [
    "greeting[1]"
   ]
  },
  {
   "cell_type": "markdown",
   "metadata": {},
   "source": [
    "That's interesting. We get a string that is only one character long. But\n",
    "the first character of `Hello World!` should be `H`, not `e`, so why did\n",
    "we get an e?\n",
    "\n",
    "Programming starts at zero. Indexing strings also starts at zero. The\n",
    "first character is `greeting[0]`, the second character is\n",
    "`greeting[1]`, and so on.\n",
    "\n",
    "```Python\n",
    ">>> greeting[0]\n",
    "'H'\n",
    ">>> greeting[1]\n",
    "'e'\n",
    ">>> greeting[2]\n",
    "'l'\n",
    ">>> greeting[3]\n",
    "'l'\n",
    ">>> greeting[4]\n",
    "'o'\n",
    "```"
   ]
  },
  {
   "cell_type": "markdown",
   "metadata": {},
   "source": [
    "So string indexes work like this:\n",
    "\n",
    "```{figure} indexing1.png\n",
    "---\n",
    "width: 60%\n",
    "name: Indexing Strings\n",
    "alt: Indexing Strings.\n",
    "---\n",
    "String Index\n",
    "```\n",
    "\n",
    "How about negative values?"
   ]
  },
  {
   "cell_type": "code",
   "execution_count": 18,
   "metadata": {},
   "outputs": [
    {
     "data": {
      "text/plain": [
       "'!'"
      ]
     },
     "execution_count": 18,
     "metadata": {},
     "output_type": "execute_result"
    }
   ],
   "source": [
    "greeting[-1]"
   ]
  },
  {
   "cell_type": "markdown",
   "metadata": {},
   "source": [
    "We got the last character.\n",
    "\n",
    "But why didn't that start at zero? `our_string[-1]` is the last\n",
    "character, but `our_string[1]` is not the first character!\n",
    "\n",
    "That's because 0 and -0 are equal, so indexing with -0 would do the same\n",
    "thing as indexing with 0.\n",
    "\n",
    "```Python\n",
    ">>> greeting[0]\n",
    "'H'\n",
    ">>> greeting[-0]\n",
    "'H'\n",
    "```"
   ]
  },
  {
   "cell_type": "markdown",
   "metadata": {},
   "source": [
    "### String Methods\n",
    "\n",
    "Python's strings have many useful methods.\n",
    "[The official documentation](https://docs.python.org/3/library/stdtypes.html#string-methods)\n",
    "covers them all, but I'm going to just show some of the most commonly\n",
    "used ones briefly. Python also comes with built-in documentation about\n",
    "the string methods and we can run `help(str)` to read it. We can also\n",
    "get help about one string method at a time, like `help(str.upper)`.\n",
    "\n",
    "Again, nothing can modify strings in-place. Most string methods\n",
    "return a new string, but things like `our_string = our_string.upper()`\n",
    "still work because the new string is assigned to the old variable.\n",
    "\n",
    "```{admonition} Also note that\n",
    "All of these methods are used like `our_string.stuff()`,\n",
    "not like `stuff(our_string)`. The idea with that is that our string\n",
    "knows how to do all these things, like `our_string.stuff()`, we don't\n",
    "need a separate function that does these things like `stuff(our_string)`. We will learn more about methods and functions later.\n",
    "```\n",
    "\n",
    "Here's an example with some of the most commonly used string methods:"
   ]
  },
  {
   "cell_type": "code",
   "execution_count": 19,
   "metadata": {},
   "outputs": [
    {
     "data": {
      "text/plain": [
       "'HOW ARE YOU TODAY?'"
      ]
     },
     "execution_count": 19,
     "metadata": {},
     "output_type": "execute_result"
    }
   ],
   "source": [
    "all_caps = \"HOW ARE YOU TODAY?\"\n",
    "all_caps"
   ]
  },
  {
   "cell_type": "code",
   "execution_count": 21,
   "metadata": {},
   "outputs": [
    {
     "data": {
      "text/plain": [
       "'how are you today?'"
      ]
     },
     "execution_count": 21,
     "metadata": {},
     "output_type": "execute_result"
    }
   ],
   "source": [
    "all_lower = all_caps.lower()\n",
    "all_lower"
   ]
  },
  {
   "cell_type": "markdown",
   "metadata": {},
   "source": [
    "Note that the method lower doesn't change the original string but rather returns a new one. If we check **all_caps** it will still contain the same value"
   ]
  },
  {
   "cell_type": "code",
   "execution_count": 22,
   "metadata": {},
   "outputs": [
    {
     "data": {
      "text/plain": [
       "'HOW ARE YOU TODAY?'"
      ]
     },
     "execution_count": 22,
     "metadata": {},
     "output_type": "execute_result"
    }
   ],
   "source": [
    "all_caps"
   ]
  },
  {
   "cell_type": "markdown",
   "metadata": {},
   "source": [
    "There are *many* string methods. Check out the [documentation](https://docs.python.org/3/library/stdtypes.html#string-methods)."
   ]
  },
  {
   "cell_type": "code",
   "execution_count": 23,
   "metadata": {},
   "outputs": [
    {
     "data": {
      "text/plain": [
       "['HOW', 'ARE', 'YOU', 'TODAY?']"
      ]
     },
     "execution_count": 23,
     "metadata": {},
     "output_type": "execute_result"
    }
   ],
   "source": [
    "all_caps.split()"
   ]
  },
  {
   "cell_type": "code",
   "execution_count": 24,
   "metadata": {},
   "outputs": [
    {
     "data": {
      "text/plain": [
       "3"
      ]
     },
     "execution_count": 24,
     "metadata": {},
     "output_type": "execute_result"
    }
   ],
   "source": [
    "all_caps.count(\"O\")"
   ]
  },
  {
   "cell_type": "markdown",
   "metadata": {},
   "source": [
    "We can even replace the string with a different character, by using the replace method."
   ]
  },
  {
   "cell_type": "code",
   "execution_count": 27,
   "metadata": {},
   "outputs": [
    {
     "data": {
      "text/plain": [
       "'Hell@ W@rld!'"
      ]
     },
     "execution_count": 27,
     "metadata": {},
     "output_type": "execute_result"
    }
   ],
   "source": [
    "# replaces all 'o' with '@'\n",
    "greeting.replace('o', '@') "
   ]
  },
  {
   "cell_type": "code",
   "execution_count": 28,
   "metadata": {},
   "outputs": [
    {
     "data": {
      "text/plain": [
       "'Hell@ World!'"
      ]
     },
     "execution_count": 28,
     "metadata": {},
     "output_type": "execute_result"
    }
   ],
   "source": [
    "# replaces just the first 'o'\n",
    "greeting.replace('o', '@', 1)"
   ]
  },
  {
   "cell_type": "markdown",
   "metadata": {},
   "source": [
    "We can use replace to change more than one character like\n",
    "``` Python\n",
    ">>> greeting.replace('World', 'Earth')\n",
    "'Hello Earth!'\n",
    "```"
   ]
  },
  {
   "cell_type": "markdown",
   "metadata": {},
   "source": [
    "### String formatting\n",
    "\n",
    "To add a string in the middle of another string, we can do something\n",
    "like this:"
   ]
  },
  {
   "cell_type": "code",
   "execution_count": 29,
   "metadata": {},
   "outputs": [
    {
     "data": {
      "text/plain": [
       "'My name is Tony.'"
      ]
     },
     "execution_count": 29,
     "metadata": {},
     "output_type": "execute_result"
    }
   ],
   "source": [
    "name = 'Tony'\n",
    "'My name is ' + name + '.'"
   ]
  },
  {
   "cell_type": "markdown",
   "metadata": {},
   "source": [
    "But that gets complicated if we have too many strings to add.\n",
    "\n",
    "Python has ways of creating strings by \"filling in the blanks\" and formatting them nicely. This is helpful for when you want to print statements that include variables or statements. There are a few ways of doing this but the recomended one is [f-strings](https://docs.python.org/3.6/whatsnew/3.6.html#whatsnew36-pep498). All you need to do is put the letter \"f\" out the front of your string and then you can include variables with curly-bracket notation `{}`."
   ]
  },
  {
   "cell_type": "code",
   "execution_count": 31,
   "metadata": {},
   "outputs": [
    {
     "data": {
      "text/plain": [
       "'Hello, my name is Bill Gates. I am 65 years old. I was born 28/10/1955.'"
      ]
     },
     "execution_count": 31,
     "metadata": {},
     "output_type": "execute_result"
    }
   ],
   "source": [
    "name = \"Bill Gates\"\n",
    "age = 65\n",
    "day = 28\n",
    "month = 10\n",
    "year = 1955\n",
    "template_new = f\"Hello, my name is {name}. I am {age} years old. I was born {day}/{month:02}/{year}.\"\n",
    "template_new"
   ]
  },
  {
   "cell_type": "markdown",
   "metadata": {},
   "source": [
    "### Extra\n",
    "\n",
    "We can use `in` and `not in` to check if a string contains another\n",
    "string."
   ]
  },
  {
   "cell_type": "markdown",
   "metadata": {},
   "source": [
    "\n",
    "```Python\n",
    ">>> greeting = \"Hello World!\"\n",
    ">>> \"Hello\" in greeting\n",
    "True\n",
    ">>> \"Python\" in greeting\n",
    "False\n",
    ">>> \"Python\" not in greeting\n",
    "True\n",
    "```"
   ]
  },
  {
   "cell_type": "markdown",
   "metadata": {},
   "source": [
    "We can get the length of a string with the `len` function. The name\n",
    "`len` is short for \"length\"."
   ]
  },
  {
   "cell_type": "code",
   "execution_count": 32,
   "metadata": {},
   "outputs": [
    {
     "data": {
      "text/plain": [
       "12"
      ]
     },
     "execution_count": 32,
     "metadata": {},
     "output_type": "execute_result"
    }
   ],
   "source": [
    "len(greeting)"
   ]
  },
  {
   "cell_type": "markdown",
   "metadata": {},
   "source": [
    "## List and Tuples\n",
    "\n",
    "### Why should we use lists?\n",
    "\n",
    "Sometimes we may end up doing something like this."
   ]
  },
  {
   "cell_type": "code",
   "execution_count": 5,
   "metadata": {},
   "outputs": [
    {
     "name": "stdout",
     "output_type": "stream",
     "text": [
      "What animal is your pet: cat\n",
      "I know you!\n"
     ]
    }
   ],
   "source": [
    "pet1 = 'cat'\n",
    "pet2 = 'dog'\n",
    "pet3 = 'goldfish'\n",
    "pet4 = 'gerbil'\n",
    "pet5 = 'hamster'\n",
    "\n",
    "name = input(\"What animal is your pet: \")\n",
    "if name == pet1 or name == pet2 or name == pet3 or name == pet4 or name == pet5:\n",
    "    print(\"I know you!\")\n",
    "else:\n",
    "    print(\"Sorry, I don't know this animal :(\")"
   ]
  },
  {
   "cell_type": "markdown",
   "metadata": {},
   "source": [
    "```{admonition} note\n",
    "In the above code we see the function [input()](https://www.w3schools.com/python/ref_func_input.asp), which allows us to get input from the user. By default everything we enter is going to be considered as a string. \n",
    "\n",
    "```\n",
    "\n",
    "This code works just fine, but there's a problem. The name check\n",
    "is repetitive, and adding a new name requires adding even more\n",
    "repetitive, boring checks.\n",
    "\n",
    "### Our first list\n",
    "\n",
    "Instead of adding a new variable for each name it might be\n",
    "better to store all names in one variable. This means that our\n",
    "one variable needs to point to multiple values. An easy way to\n",
    "do this is using a list, we create them by putting all our pets inside `square brackets`.\n"
   ]
  },
  {
   "cell_type": "code",
   "execution_count": 20,
   "metadata": {},
   "outputs": [],
   "source": [
    "pets = ['cat', 'dog', 'goldfish', 'gerbil', 'hamster']"
   ]
  },
  {
   "cell_type": "markdown",
   "metadata": {},
   "source": [
    "Here the `pets` variable points to a list, which then points to\n",
    "strings, like this:\n",
    "\n",
    "```{figure} lists.png\n",
    "---\n",
    "width: 70%\n",
    "name: Lists\n",
    "alt: List of pets.\n",
    "---\n",
    "List of pets\n",
    "```\n",
    "\n",
    "### What can we do with lists?"
   ]
  },
  {
   "cell_type": "markdown",
   "metadata": {},
   "source": [
    "In the previous section we saw that there are many things we can do with strings,\n",
    "and some of these things also work with lists."
   ]
  },
  {
   "cell_type": "code",
   "execution_count": 4,
   "metadata": {},
   "outputs": [
    {
     "data": {
      "text/plain": [
       "5"
      ]
     },
     "execution_count": 4,
     "metadata": {},
     "output_type": "execute_result"
    }
   ],
   "source": [
    "len(pets)"
   ]
  },
  {
   "cell_type": "code",
   "execution_count": 10,
   "metadata": {},
   "outputs": [
    {
     "data": {
      "text/plain": [
       "['cat', 'dog', 'goldfish', 'gerbil', 'hamster', 'fox']"
      ]
     },
     "execution_count": 10,
     "metadata": {},
     "output_type": "execute_result"
    }
   ],
   "source": [
    "# This creates a new list with 'fox' inside it\n",
    "pets + ['fox']"
   ]
  },
  {
   "cell_type": "code",
   "execution_count": 11,
   "metadata": {},
   "outputs": [
    {
     "data": {
      "text/plain": [
       "['cat', 'dog', 'goldfish', 'gerbil', 'hamster']"
      ]
     },
     "execution_count": 11,
     "metadata": {},
     "output_type": "execute_result"
    }
   ],
   "source": [
    "# When we check the original pets list there is no value called 'fox'\n",
    "pets"
   ]
  },
  {
   "cell_type": "markdown",
   "metadata": {},
   "source": [
    "With strings indexing and slicing both returned a string, but\n",
    "with lists we get a new list when we're slicing and an element\n",
    "from the list if we're indexing."
   ]
  },
  {
   "cell_type": "code",
   "execution_count": 12,
   "metadata": {},
   "outputs": [
    {
     "data": {
      "text/plain": [
       "['cat', 'dog']"
      ]
     },
     "execution_count": 12,
     "metadata": {},
     "output_type": "execute_result"
    }
   ],
   "source": [
    "pets[:2]  # first two pets"
   ]
  },
  {
   "cell_type": "code",
   "execution_count": 14,
   "metadata": {},
   "outputs": [
    {
     "data": {
      "text/plain": [
       "'cat'"
      ]
     },
     "execution_count": 14,
     "metadata": {},
     "output_type": "execute_result"
    }
   ],
   "source": [
    "pets[0] # the first pet"
   ]
  },
  {
   "cell_type": "markdown",
   "metadata": {},
   "source": [
    "If we want to check if the program knows a name all we need to\n",
    "do is to use the `in` keyword."
   ]
  },
  {
   "cell_type": "code",
   "execution_count": 15,
   "metadata": {},
   "outputs": [
    {
     "data": {
      "text/plain": [
       "False"
      ]
     },
     "execution_count": 15,
     "metadata": {},
     "output_type": "execute_result"
    }
   ],
   "source": [
    "'lion' in pets"
   ]
  },
  {
   "cell_type": "code",
   "execution_count": 16,
   "metadata": {},
   "outputs": [
    {
     "data": {
      "text/plain": [
       "True"
      ]
     },
     "execution_count": 16,
     "metadata": {},
     "output_type": "execute_result"
    }
   ],
   "source": [
    "'gerbil' in pets"
   ]
  },
  {
   "cell_type": "markdown",
   "metadata": {},
   "source": [
    "```{note}\n",
    "We can't use this for checking if a list of names is a part of\n",
    "our name list.\n",
    "```Python\n",
    ">>> ['cat', 'dog'] in pets\n",
    "False\n",
    ">>> ['goldfish'] in pets\n",
    "False\n",
    "```"
   ]
  },
  {
   "cell_type": "markdown",
   "metadata": {},
   "source": [
    "Lists have a few [useful\n",
    "methods](https://docs.python.org/3/tutorial/datastructures.html#more-on-lists).\n",
    "Some of the most commonly used ones are append, extend and remove.\n",
    "`append` adds an item to the end of a list, `extend` adds\n",
    "multiple items from another list and `remove` removes an item."
   ]
  },
  {
   "cell_type": "code",
   "execution_count": 21,
   "metadata": {},
   "outputs": [
    {
     "data": {
      "text/plain": [
       "['cat', 'dog', 'goldfish', 'hamster']"
      ]
     },
     "execution_count": 21,
     "metadata": {},
     "output_type": "execute_result"
    }
   ],
   "source": [
    "pets.remove('gerbil') # sorry gerbil\n",
    "pets"
   ]
  },
  {
   "cell_type": "code",
   "execution_count": 22,
   "metadata": {},
   "outputs": [
    {
     "data": {
      "text/plain": [
       "['cat', 'dog', 'goldfish', 'hamster', 'horse']"
      ]
     },
     "execution_count": 22,
     "metadata": {},
     "output_type": "execute_result"
    }
   ],
   "source": [
    "pets.append('horse')\n",
    "pets"
   ]
  },
  {
   "cell_type": "code",
   "execution_count": 23,
   "metadata": {},
   "outputs": [
    {
     "data": {
      "text/plain": [
       "['cat', 'dog', 'goldfish', 'hamster', 'horse', 'dog', 'fox']"
      ]
     },
     "execution_count": 23,
     "metadata": {},
     "output_type": "execute_result"
    }
   ],
   "source": [
    "pets.extend(['dog', 'fox'])\n",
    "pets"
   ]
  },
  {
   "cell_type": "markdown",
   "metadata": {},
   "source": [
    "````{important}\n",
    "remove() only removes the first match it finds\n",
    "``` Python\n",
    ">>> pets.remove('dog')\n",
    ">>> pets\n",
    "['cat', 'goldfish', 'hamster', 'horse', 'dog', 'fox']\n",
    "\n",
    "```\n",
    "If we need to remove all matching items then we will need to use loops, we will learn about loops in the next section.\n",
    "````"
   ]
  },
  {
   "cell_type": "markdown",
   "metadata": {},
   "source": [
    "Similar to strings we can use slicing and indexing to change the content of the list."
   ]
  },
  {
   "cell_type": "code",
   "execution_count": 24,
   "metadata": {},
   "outputs": [
    {
     "data": {
      "text/plain": [
       "'dog'"
      ]
     },
     "execution_count": 24,
     "metadata": {},
     "output_type": "execute_result"
    }
   ],
   "source": [
    "pets[1]"
   ]
  },
  {
   "cell_type": "code",
   "execution_count": 25,
   "metadata": {},
   "outputs": [
    {
     "data": {
      "text/plain": [
       "['cat', 'puppy', 'goldfish', 'hamster', 'horse', 'dog', 'fox']"
      ]
     },
     "execution_count": 25,
     "metadata": {},
     "output_type": "execute_result"
    }
   ],
   "source": [
    "pets[1] = 'puppy'\n",
    "pets"
   ]
  },
  {
   "cell_type": "markdown",
   "metadata": {},
   "source": [
    "As we can see, **list can be changed in-place**. In other\n",
    "words, they are [**mutable**](https://medium.com/@meghamohan/mutable-and-immutable-side-of-python-c2145cf72747). Integers, floats, strings and many\n",
    "other built-in types can't, so they are **immutable**.\n",
    "\n",
    "With string we did something to them\n",
    "and then set the result back to the same variable, like\n",
    "`name = name.replace('i', 'u')`. This just doesn't work right with\n",
    "most mutable types because they're designed to be changed in-place."
   ]
  },
  {
   "cell_type": "code",
   "execution_count": 26,
   "metadata": {},
   "outputs": [
    {
     "ename": "TypeError",
     "evalue": "'str' object does not support item assignment",
     "output_type": "error",
     "traceback": [
      "\u001b[0;31m---------------------------------------------------------------------------\u001b[0m",
      "\u001b[0;31mTypeError\u001b[0m                                 Traceback (most recent call last)",
      "\u001b[0;32m<ipython-input-26-2c4638f48c3b>\u001b[0m in \u001b[0;36m<module>\u001b[0;34m\u001b[0m\n\u001b[1;32m      1\u001b[0m \u001b[0mname\u001b[0m \u001b[0;34m=\u001b[0m \u001b[0;34m'Bill'\u001b[0m\u001b[0;34m\u001b[0m\u001b[0;34m\u001b[0m\u001b[0m\n\u001b[0;32m----> 2\u001b[0;31m \u001b[0mname\u001b[0m\u001b[0;34m[\u001b[0m\u001b[0;36m1\u001b[0m\u001b[0;34m]\u001b[0m \u001b[0;34m=\u001b[0m \u001b[0;34m'u'\u001b[0m\u001b[0;34m\u001b[0m\u001b[0;34m\u001b[0m\u001b[0m\n\u001b[0m\u001b[1;32m      3\u001b[0m \u001b[0mname\u001b[0m\u001b[0;34m\u001b[0m\u001b[0;34m\u001b[0m\u001b[0m\n",
      "\u001b[0;31mTypeError\u001b[0m: 'str' object does not support item assignment"
     ]
    }
   ],
   "source": [
    "# strings are immutable and their value cant be changed\n",
    "name = 'Bill'\n",
    "name[1] = 'u'\n",
    "name"
   ]
  },
  {
   "cell_type": "markdown",
   "metadata": {},
   "source": [
    "### Tuples\n",
    "\n",
    "Tuples are a lot like lists, but they're immutable so they\n",
    "can't be changed in-place. We create them like lists, but\n",
    "with `()` instead of `[]`.\n",
    "\n",
    "``` Python\n",
    ">>> thing = (1, 2, 3)\n",
    ">>> thing\n",
    "(1, 2, 3)\n",
    ">>> thing = ()\n",
    ">>> thing\n",
    "()\n",
    "```\n",
    "\n",
    "If we need to create a tuple that contains only one item we\n",
    "need to use `(item,)` instead of `(item)` because `(item)` is\n",
    "used in places like `(1 + 2) * 3`."
   ]
  },
  {
   "cell_type": "code",
   "execution_count": 32,
   "metadata": {},
   "outputs": [
    {
     "name": "stdout",
     "output_type": "stream",
     "text": [
      "3\n"
     ]
    },
    {
     "data": {
      "text/plain": [
       "int"
      ]
     },
     "execution_count": 32,
     "metadata": {},
     "output_type": "execute_result"
    }
   ],
   "source": [
    "num = (3) # python reads this as a number\n",
    "print(num)\n",
    "type(num)"
   ]
  },
  {
   "cell_type": "code",
   "execution_count": 33,
   "metadata": {},
   "outputs": [
    {
     "name": "stdout",
     "output_type": "stream",
     "text": [
      "(3,)\n"
     ]
    },
    {
     "data": {
      "text/plain": [
       "tuple"
      ]
     },
     "execution_count": 33,
     "metadata": {},
     "output_type": "execute_result"
    }
   ],
   "source": [
    "num = (3,) # this gives us a tuple\n",
    "print(num)\n",
    "type(num)"
   ]
  },
  {
   "cell_type": "code",
   "execution_count": 34,
   "metadata": {},
   "outputs": [
    {
     "data": {
      "text/plain": [
       "9"
      ]
     },
     "execution_count": 34,
     "metadata": {},
     "output_type": "execute_result"
    }
   ],
   "source": [
    "(1 + 2) * 3"
   ]
  },
  {
   "cell_type": "code",
   "execution_count": 36,
   "metadata": {},
   "outputs": [
    {
     "data": {
      "text/plain": [
       "(3, 3, 3)"
      ]
     },
     "execution_count": 36,
     "metadata": {},
     "output_type": "execute_result"
    }
   ],
   "source": [
    "'''\n",
    "In the following case it adds 1+2 to give us a tuple (3,) which is then multiplied by 3 \n",
    "'''\n",
    "(1 + 2,) * 3"
   ]
  },
  {
   "cell_type": "markdown",
   "metadata": {},
   "source": [
    "It's also possible to create tuples by just separating things with\n",
    "commas and adding no parentheses. Personally I don't like this feature,\n",
    "but some people like to do it this way."
   ]
  },
  {
   "cell_type": "code",
   "execution_count": 37,
   "metadata": {},
   "outputs": [
    {
     "data": {
      "text/plain": [
       "(1, 2, 3)"
      ]
     },
     "execution_count": 37,
     "metadata": {},
     "output_type": "execute_result"
    }
   ],
   "source": [
    "1, 2, 3"
   ]
  },
  {
   "cell_type": "code",
   "execution_count": 38,
   "metadata": {},
   "outputs": [
    {
     "data": {
      "text/plain": [
       "('hello', 'world')"
      ]
     },
     "execution_count": 38,
     "metadata": {},
     "output_type": "execute_result"
    }
   ],
   "source": [
    "'hello', 'world'"
   ]
  },
  {
   "cell_type": "markdown",
   "metadata": {},
   "source": [
    "Tuples don't have methods like append, extend and remove\n",
    "because they can't change themselves in-place.\n",
    "\n",
    "### Examples\n",
    "\n",
    "Here's the same program we had in the beginning of this tutorial, but\n",
    "using a list:"
   ]
  },
  {
   "cell_type": "code",
   "execution_count": 1,
   "metadata": {},
   "outputs": [
    {
     "name": "stdout",
     "output_type": "stream",
     "text": [
      "What animal is your pet: dog\n",
      "I know you!\n"
     ]
    }
   ],
   "source": [
    "pets = ['cat', 'dog', 'goldfish', 'gerbil', 'hamster']\n",
    "\n",
    "name = input(\"What animal is your pet: \")\n",
    "if name in pets:\n",
    "    print(\"I know you!\")\n",
    "else:\n",
    "    print(\"Sorry, I don't know this animal :(\")"
   ]
  },
  {
   "cell_type": "markdown",
   "metadata": {},
   "source": [
    "## Loops\n",
    "\n",
    "\n",
    "In programming, a **loop** means repeating something multiple times.\n",
    "There are different kinds of loops:\n",
    "\n",
    "- [For loops](#for-loops) repeat something for each element of something.\n",
    "- [While loops](#while-loops) repeat something while a condition is true.\n",
    "- [Until loops](#until-loops) repeat something while a condition is false.\n",
    "\n",
    "We'll talk about all of these in this tutorial.\n",
    "\n"
   ]
  },
  {
   "cell_type": "markdown",
   "metadata": {},
   "source": [
    "### For loops\n",
    "\n",
    "Let's say we have a list of things we want to print. To print each item in it, we could just do a bunch of prints:"
   ]
  },
  {
   "cell_type": "code",
   "execution_count": 2,
   "metadata": {},
   "outputs": [
    {
     "name": "stdout",
     "output_type": "stream",
     "text": [
      "Hello\n",
      "Hi\n",
      "How are you doing\n",
      "Im fine\n",
      "How about you\n"
     ]
    }
   ],
   "source": [
    "stuff = ['Hello', 'Hi', 'How are you doing', 'Im fine', 'How about you']\n",
    "\n",
    "print(stuff[0])\n",
    "print(stuff[1])\n",
    "print(stuff[2])\n",
    "print(stuff[3])\n",
    "print(stuff[4])"
   ]
  },
  {
   "cell_type": "markdown",
   "metadata": {},
   "source": [
    "But the problem with this approach is that it is only going to print five items, so if we add something new to\n",
    "the list, it's not going to be printed. Likewise, if we remove something from our list, we'll get an error saying \"list index out of range\".\n",
    "\n",
    "This is when for loops come in:"
   ]
  },
  {
   "cell_type": "code",
   "execution_count": 5,
   "metadata": {},
   "outputs": [
    {
     "name": "stdout",
     "output_type": "stream",
     "text": [
      "I'm starting the loop!!!\n",
      "Hello\n",
      "Hi\n",
      "How are you doing\n",
      "Im fine\n",
      "How about you\n",
      "I'm done with loop!!!\n"
     ]
    }
   ],
   "source": [
    "print(\"I'm starting the loop!!!\")\n",
    "for things in stuff:\n",
    "# this is repeated for each element of stuff, that is, first for stuff[0], then for stuff[1], etc.\n",
    "   print(things)\n",
    "print(\"I'm done with loop!!!\")"
   ]
  },
  {
   "cell_type": "markdown",
   "metadata": {},
   "source": [
    "Without the comments, that's only two simple lines, and one variable. Much better than anything else we tried before.\n",
    "\n",
    "The main points to notice:\n",
    "\n",
    "* Keyword `for` begins the loop. Colon `:` ends the first line of the loop.\n",
    "* Block of code indented is executed for each value in the list (hence the name \"for\" loops)\n",
    "* We can use any variable name (in this case `things`) to refer to items in the list\n",
    "* The loop ends after the variable `things` has taken all the values in the list\n",
    "* We can iterate over any kind of \"iterable\": `list`, `tuple`, `range`, `set`, `string`.\n",
    "* An iterable is really just any object with a sequence of values that can be looped over. In this case, we are iterating over the values in a list.\n",
    "\n",
    "``` {note}\n",
    "Note that `for thing in stuff:` is not same as `for (things in stuff):`.\n",
    "Here the `in` keyword is just a part of the for loop and it has a\n",
    "different meaning than it would have if we had `things in stuff` without\n",
    "a `for`. Trying to do `for (things in stuff):` creates an error.\n",
    "```"
   ]
  },
  {
   "cell_type": "code",
   "execution_count": 6,
   "metadata": {},
   "outputs": [
    {
     "name": "stdout",
     "output_type": "stream",
     "text": [
      "Gimme a r!\n",
      "Gimme a a!\n",
      "Gimme a c!\n",
      "Gimme a e!\n",
      "Gimme a c!\n",
      "Gimme a a!\n",
      "Gimme a r!\n",
      "What's that spell?!! racecar!\n"
     ]
    }
   ],
   "source": [
    "word = 'racecar'\n",
    "for letter in word:\n",
    "    print(f'Gimme a {letter}!')\n",
    "\n",
    "print(f\"What's that spell?!! {word}!\")"
   ]
  },
  {
   "cell_type": "markdown",
   "metadata": {},
   "source": [
    "A very common pattern is to use `for` with the [range()](https://www.w3schools.com/python/ref_func_range.asp). range() gives us a sequence of integers up to some value (non-inclusive of the end-value) and is typically used for looping."
   ]
  },
  {
   "cell_type": "code",
   "execution_count": 7,
   "metadata": {},
   "outputs": [
    {
     "data": {
      "text/plain": [
       "range(0, 10)"
      ]
     },
     "execution_count": 7,
     "metadata": {},
     "output_type": "execute_result"
    }
   ],
   "source": [
    "range(10)"
   ]
  },
  {
   "cell_type": "code",
   "execution_count": 8,
   "metadata": {},
   "outputs": [
    {
     "data": {
      "text/plain": [
       "[0, 1, 2, 3, 4, 5, 6, 7, 8, 9]"
      ]
     },
     "execution_count": 8,
     "metadata": {},
     "output_type": "execute_result"
    }
   ],
   "source": [
    "list(range(10))"
   ]
  },
  {
   "cell_type": "code",
   "execution_count": 9,
   "metadata": {},
   "outputs": [
    {
     "name": "stdout",
     "output_type": "stream",
     "text": [
      "0\n",
      "1\n",
      "2\n",
      "3\n",
      "4\n",
      "5\n",
      "6\n",
      "7\n",
      "8\n",
      "9\n"
     ]
    }
   ],
   "source": [
    "for i in range(10):\n",
    "    print(i)"
   ]
  },
  {
   "cell_type": "markdown",
   "metadata": {},
   "source": [
    "We can also specify a start value and a skip-by value with `range`:"
   ]
  },
  {
   "cell_type": "code",
   "execution_count": 10,
   "metadata": {},
   "outputs": [
    {
     "name": "stdout",
     "output_type": "stream",
     "text": [
      "1\n",
      "11\n",
      "21\n",
      "31\n",
      "41\n",
      "51\n",
      "61\n",
      "71\n",
      "81\n",
      "91\n"
     ]
    }
   ],
   "source": [
    "for i in range(1, 101, 10):\n",
    "    print(i)"
   ]
  },
  {
   "cell_type": "markdown",
   "metadata": {},
   "source": [
    "We can write a loop inside another loop to iterate over multiple dimensions of data:"
   ]
  },
  {
   "cell_type": "code",
   "execution_count": 12,
   "metadata": {},
   "outputs": [
    {
     "name": "stdout",
     "output_type": "stream",
     "text": [
      "('science', 'a')\n",
      "('science', 'b')\n",
      "('science', 'c')\n",
      "('math', 'a')\n",
      "('math', 'b')\n",
      "('math', 'c')\n",
      "('history', 'a')\n",
      "('history', 'b')\n",
      "('history', 'c')\n"
     ]
    }
   ],
   "source": [
    "for subjects in ['science', 'math', 'history']:\n",
    "    for grade in ['a', 'b', 'c']:\n",
    "        print((subjects, grade))"
   ]
  },
  {
   "cell_type": "code",
   "execution_count": 20,
   "metadata": {},
   "outputs": [
    {
     "name": "stdout",
     "output_type": "stream",
     "text": [
      "science a\n",
      "math b\n",
      "history c\n"
     ]
    }
   ],
   "source": [
    "subjects = ['science', 'math', 'history']\n",
    "grades = ['a', 'b', 'c']\n",
    "for number in range(3):\n",
    "    print(subjects[number], grades[number])"
   ]
  },
  {
   "cell_type": "markdown",
   "metadata": {},
   "source": [
    "There are many clever ways of doing these kinds of things in Python. When looping over objects, I tend to use `zip()` and `enumerate()` quite a lot in my work. `zip()` returns a zip object which is an iterable of tuples."
   ]
  },
  {
   "cell_type": "code",
   "execution_count": 21,
   "metadata": {},
   "outputs": [
    {
     "name": "stdout",
     "output_type": "stream",
     "text": [
      "('science', 'a')\n",
      "('math', 'b')\n",
      "('history', 'c')\n"
     ]
    }
   ],
   "source": [
    "for number in zip(subjects, grades):\n",
    "    print(number)"
   ]
  },
  {
   "cell_type": "markdown",
   "metadata": {},
   "source": [
    "We notice that the variable `number` when used with zip() function, points to a tuple. We can even \"unpack\" these tuples directly in the `for` loop:"
   ]
  },
  {
   "cell_type": "code",
   "execution_count": 22,
   "metadata": {},
   "outputs": [
    {
     "name": "stdout",
     "output_type": "stream",
     "text": [
      "science a\n",
      "math b\n",
      "history c\n"
     ]
    }
   ],
   "source": [
    "for subject, grade in zip(subjects, grades):\n",
    "    print(subject, grade)"
   ]
  },
  {
   "cell_type": "markdown",
   "metadata": {},
   "source": [
    "`enumerate()` adds a counter to an iterable which we can use within the loop."
   ]
  },
  {
   "cell_type": "code",
   "execution_count": 23,
   "metadata": {},
   "outputs": [
    {
     "name": "stdout",
     "output_type": "stream",
     "text": [
      "(0, 'a')\n",
      "(1, 'b')\n",
      "(2, 'c')\n"
     ]
    }
   ],
   "source": [
    "for i in enumerate(grades):\n",
    "    print(i)"
   ]
  },
  {
   "cell_type": "code",
   "execution_count": 24,
   "metadata": {},
   "outputs": [
    {
     "name": "stdout",
     "output_type": "stream",
     "text": [
      "index 0, value a\n",
      "index 1, value b\n",
      "index 2, value c\n"
     ]
    }
   ],
   "source": [
    "for index, value in enumerate(grades):\n",
    "    print(f\"index {index}, value {value}\")"
   ]
  },
  {
   "cell_type": "markdown",
   "metadata": {},
   "source": [
    "```` {note}\n",
    "There's only one big limitation with for looping over lists. We\n",
    "shouldn't modify the list in the for loop. If we do, the results can\n",
    "be surprising:\n",
    "\n",
    "``` Python\n",
    ">>> stuff = ['hello', 'hi', 'how are you doing', 'im fine', 'how about you']\n",
    ">>> for thing in stuff:\n",
    "...     stuff.remove(thing)\n",
    "...\n",
    ">>> stuff\n",
    "['hi', 'im fine']\n",
    "```\n",
    "````\n"
   ]
  },
  {
   "cell_type": "markdown",
   "metadata": {},
   "source": [
    "### While loops\n",
    "\n",
    "We can also use a [`while` loop](https://docs.python.org/3/reference/compound_stmts.html#while) to execute a block of code several times. They are very similar to how a if statement works. But beware! If the conditional expression is always `True`, then you've got an infintite loop! "
   ]
  },
  {
   "cell_type": "code",
   "execution_count": 25,
   "metadata": {},
   "outputs": [
    {
     "name": "stdout",
     "output_type": "stream",
     "text": [
      "Oh! it's raining!\n"
     ]
    }
   ],
   "source": [
    "its_raining = True\n",
    "if its_raining:\n",
    "    print(\"Oh! it's raining!\")"
   ]
  },
  {
   "cell_type": "markdown",
   "metadata": {},
   "source": [
    "While loop would look something like this\n",
    "\n",
    "``` Python\n",
    "its_raining = True\n",
    "while its_raining:\n",
    "    print(\"Oh! it's raining!\")\n",
    "    # we'll jump back to the line with the word \"while\" from here\n",
    "print(\"It's not raining anymore.\")\n",
    "```"
   ]
  },
  {
   "cell_type": "markdown",
   "metadata": {},
   "source": [
    "If you're not familiar with while loops, the program's output may be a\n",
    "bit surprising:\n",
    "\n",
    "    Oh! it's raining!\n",
    "    Oh! it's raining!\n",
    "    Oh! it's raining!\n",
    "    Oh! it's raining!\n",
    "    Oh! it's raining!\n",
    "    Oh! it's raining!\n",
    "    Oh! it's raining!\n",
    "    Oh! it's raining!\n",
    "    Oh! it's raining!\n",
    "    Oh! it's raining!\n",
    "    Oh! it's raining!\n",
    "    Oh! it's raining!\n",
    "    Oh! it's raining!\n",
    "    Oh! it's raining!\n",
    "    Oh! it's raining!\n",
    "    (much more raining)\n",
    "\n",
    "Again, this program does not break your computer. It just prints the\n",
    "same thing multiple times. We can interrupt it by pressing Ctrl+C.\n",
    "\n",
    "In this example, `its_raining` was the **condition**. If something in\n",
    "the while loop would have set `its_raining` to False, the loop would\n",
    "have ended and the program would have printed `It's not raining anymore`.\n",
    "\n",
    "Let's actually create a program that does just that:"
   ]
  },
  {
   "cell_type": "code",
   "execution_count": 31,
   "metadata": {},
   "outputs": [
    {
     "name": "stdout",
     "output_type": "stream",
     "text": [
      "1 Oh! it's raining!\n",
      "2 Oh! it's raining!\n",
      "3 Oh! it's raining!\n",
      "4 Oh! it's raining!\n",
      "5 Oh! it's raining!\n",
      "6 Oh! it's raining!\n",
      "7 Oh! it's raining!\n",
      "8 Oh! it's raining!\n",
      "9 Oh! it's raining!\n",
      "10 Oh! it's raining!\n",
      "It's not raining anymore.\n"
     ]
    }
   ],
   "source": [
    "its_raining = True\n",
    "counter = 1\n",
    "while its_raining and counter < 11:\n",
    "    print(f\"{counter} Oh! it's raining!\")\n",
    "    counter = counter + 1\n",
    "    \n",
    "print(\"It's not raining anymore.\")"
   ]
  },
  {
   "cell_type": "markdown",
   "metadata": {},
   "source": [
    "Let's read the `while` statement above as if it were in English. It means, “While `its_raining` is True and the value of counter is less than 10, display the print statement and then increase counter by 1. When the counter reaches 10, it ends the loop”.\n",
    "\n",
    "Hence, in some cases, we may want to force a `while` loop to stop based on some criteria, using the `break` keyword."
   ]
  },
  {
   "cell_type": "code",
   "execution_count": 33,
   "metadata": {},
   "outputs": [
    {
     "name": "stdout",
     "output_type": "stream",
     "text": [
      "123\n",
      "370\n",
      "185\n",
      "556\n",
      "278\n",
      "139\n",
      "418\n",
      "209\n",
      "628\n",
      "314\n",
      "Ugh, too many iterations!\n"
     ]
    }
   ],
   "source": [
    "number = 123\n",
    "counter = 0\n",
    "while number != 1:\n",
    "    print(int(number))\n",
    "    if number % 2 == 0: # number is even\n",
    "        number = number / 2\n",
    "    else: # number is odd\n",
    "        number = number * 3 + 1\n",
    "    counter = counter + 1\n",
    "    if counter == 10:\n",
    "        print(f\"Ugh, too many iterations!\")\n",
    "        break"
   ]
  },
  {
   "cell_type": "markdown",
   "metadata": {},
   "source": [
    "The `continue` keyword is similar to `break` but won't stop the loop. Instead, it just restarts the loop from the top."
   ]
  },
  {
   "cell_type": "code",
   "execution_count": 36,
   "metadata": {},
   "outputs": [
    {
     "name": "stdout",
     "output_type": "stream",
     "text": [
      "10\n",
      "8\n",
      "6\n",
      "4\n",
      "2\n",
      "Blast off!\n"
     ]
    }
   ],
   "source": [
    "number = 10\n",
    "while number > 0:\n",
    "    if number % 2 != 0: # n is odd\n",
    "        number = number - 1\n",
    "        continue\n",
    "        break  # this line is never executed because continue restarts the loop from the top\n",
    "    print(number)\n",
    "    number = number - 1\n",
    "\n",
    "print(\"Blast off!\")"
   ]
  },
  {
   "cell_type": "markdown",
   "metadata": {},
   "source": [
    "### Until loops\n",
    "\n",
    "Python doesn't have until loops. If we need an until loop, we can use\n",
    "`while not`:"
   ]
  },
  {
   "cell_type": "code",
   "execution_count": 37,
   "metadata": {},
   "outputs": [
    {
     "name": "stdout",
     "output_type": "stream",
     "text": [
      "It's not raining.\n",
      "Is it raining? (y/n) n\n",
      "It's not raining.\n",
      "Is it raining? (y/n) n\n",
      "It's not raining.\n",
      "Is it raining? (y/n) y\n",
      "It's raining!\n"
     ]
    }
   ],
   "source": [
    "raining = False\n",
    "while not raining:\n",
    "    print(\"It's not raining.\")\n",
    "    if input(\"Is it raining? (y/n) \") == 'y':\n",
    "        raining = True\n",
    "print(\"It's raining!\")"
   ]
  }
 ],
 "metadata": {
  "kernelspec": {
   "display_name": "Python 3",
   "language": "python",
   "name": "python3"
  },
  "language_info": {
   "codemirror_mode": {
    "name": "ipython",
    "version": 3
   },
   "file_extension": ".py",
   "mimetype": "text/x-python",
   "name": "python",
   "nbconvert_exporter": "python",
   "pygments_lexer": "ipython3",
   "version": "3.8.5"
  }
 },
 "nbformat": 4,
 "nbformat_minor": 4
}
